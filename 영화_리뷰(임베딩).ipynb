{
  "nbformat": 4,
  "nbformat_minor": 0,
  "metadata": {
    "colab": {
      "name": "영화 리뷰(임베딩).ipynb",
      "provenance": [],
      "collapsed_sections": [],
      "authorship_tag": "ABX9TyOFhSYEly8WTmWkjVEXSeTg",
      "include_colab_link": true
    },
    "kernelspec": {
      "name": "python3",
      "display_name": "Python 3"
    },
    "language_info": {
      "name": "python"
    }
  },
  "cells": [
    {
      "cell_type": "markdown",
      "metadata": {
        "id": "view-in-github",
        "colab_type": "text"
      },
      "source": [
        "<a href=\"https://colab.research.google.com/github/heewoonjeong/AI8_Study/blob/main/%EC%98%81%ED%99%94_%EB%A6%AC%EB%B7%B0(%EC%9E%84%EB%B2%A0%EB%94%A9).ipynb\" target=\"_parent\"><img src=\"https://colab.research.google.com/assets/colab-badge.svg\" alt=\"Open In Colab\"/></a>"
      ]
    },
    {
      "cell_type": "markdown",
      "source": [
        "##  단어 임베딩\n",
        "원-핫 인코딩으로 벡터의 길이가 길어진다는 단점이 있음 이러한 공간적 낭비를 위해 등장한 것이 **단어 임베딩**(word.embedding) 주어진 배열을 정해진 길이로 압출 "
      ],
      "metadata": {
        "id": "7KvQW2KCr81A"
      }
    },
    {
      "cell_type": "markdown",
      "source": [
        ""
      ],
      "metadata": {
        "id": "tuewNu8er3tL"
      }
    },
    {
      "cell_type": "code",
      "execution_count": null,
      "metadata": {
        "id": "5yOMBpldrzj0"
      },
      "outputs": [],
      "source": [
        "from tensorflow.keras.preprocessing.text import Tokenizer\n",
        "from tensorflow.keras.preprocessing.text import text_to_word_sequence\n",
        "from tensorflow.keras.preprocessing.sequence import pad_sequences\n",
        "from tensorflow.keras.utils import to_categorical\n",
        "from tensorflow.keras.layers import Embedding, Dense, Flatten\n",
        "from tensorflow.keras.models import Sequential\n",
        "\n",
        "from numpy import array "
      ]
    },
    {
      "cell_type": "code",
      "source": [
        "# embedding() 함수는 입력과 출력의 크기를 나타내는 두개의 매개변수가 있어야합니다 \n",
        "# embedding(16,4 , inpt_length=2 입력이 2개씩 )\n",
        "# 입력될 총단어수 16 임베딩후 출력되는 벡터크기는 4 \n",
        "# embedding() (입력,출력,출력몇개) 3가지의 파라미터로 구성 \n",
        "model = Sequential() \n",
        "model.add(Embedding(16,4))"
      ],
      "metadata": {
        "id": "TffwyWPBsCaf"
      },
      "execution_count": null,
      "outputs": []
    },
    {
      "cell_type": "code",
      "source": [
        "# 영화 리뷰 립러닝 모델학습 긍정1 부정2\n",
        "docs = [ '너무 재밌네요 ','최고예요','참 잘 만든 영화예요', '추천하고 싶은 영화 입니다 ','한 번 더 보고싶네요', '글쎄요','별로예요','생각보다 지루하네요','연기가 어색해요','재미없어요']\n"
      ],
      "metadata": {
        "id": "Y-8Pn-3VsC3H"
      },
      "execution_count": null,
      "outputs": []
    },
    {
      "cell_type": "code",
      "source": [
        "classes = array([1,1,1,1,1,0,0,0,0,0])"
      ],
      "metadata": {
        "id": "VXG5kLJ6sG2m"
      },
      "execution_count": null,
      "outputs": []
    },
    {
      "cell_type": "code",
      "source": [
        "# 토큰화 Tokenizer()함수의 fit_on_texts 단어의 하나의 토큰으로 변환 \n",
        "# 토큰화된 결과를 출력해 확인 합니다 \n",
        "token = Tokenizer()\n",
        "token.fit_on_texts(docs)\n",
        "print(token.word_index) "
      ],
      "metadata": {
        "colab": {
          "base_uri": "https://localhost:8080/"
        },
        "id": "6U-DvV-ZsI8K",
        "outputId": "8682ea19-6956-404d-d504-87265a6e71ea"
      },
      "execution_count": null,
      "outputs": [
        {
          "output_type": "stream",
          "name": "stdout",
          "text": [
            "{'너무': 1, '재밌네요': 2, '최고예요': 3, '참': 4, '잘': 5, '만든': 6, '영화예요': 7, '추천하고': 8, '싶은': 9, '영화': 10, '입니다': 11, '한': 12, '번': 13, '더': 14, '보고싶네요': 15, '글쎄요': 16, '별로예요': 17, '생각보다': 18, '지루하네요': 19, '연기가': 20, '어색해요': 21, '재미없어요': 22}\n"
          ]
        }
      ]
    },
    {
      "cell_type": "code",
      "source": [
        "# 지정된 인덱스로 저장 \n",
        "x= token.texts_to_sequences(docs)\n",
        "print(\"\\n리뷰 텍스트, 토큰화 결과:\\n\" , x)"
      ],
      "metadata": {
        "colab": {
          "base_uri": "https://localhost:8080/"
        },
        "id": "9BNoFBCDsSJe",
        "outputId": "d29181aa-4bbd-406b-f797-9823d51b97ef"
      },
      "execution_count": null,
      "outputs": [
        {
          "output_type": "stream",
          "name": "stdout",
          "text": [
            "\n",
            "리뷰 텍스트, 토큰화 결과:\n",
            " [[1, 2], [3], [4, 5, 6, 7], [8, 9, 10, 11], [12, 13, 14, 15], [16], [17], [18, 19], [20, 21], [22]]\n"
          ]
        }
      ]
    },
    {
      "cell_type": "code",
      "source": [
        "# 최고예요는 3하나로 가능한데 참 잘 만든 영화에요는 4,5,6,7 이 들어감으로 길이 마추기 \n",
        "# 서로 다른길이의 데이터를 4로 마추기 \n",
        "padded_x = pad_sequences(x ,4) \n",
        "print(\"\\n패딩 결과 :\\n\", padded_x)\n",
        "print(word_size)"
      ],
      "metadata": {
        "colab": {
          "base_uri": "https://localhost:8080/"
        },
        "id": "HhtGDZKksS4M",
        "outputId": "c92a8b4c-bfcf-4ca0-fda6-7c188ef7c53f"
      },
      "execution_count": null,
      "outputs": [
        {
          "output_type": "stream",
          "name": "stdout",
          "text": [
            "\n",
            "패딩 결과 :\n",
            " [[ 0  0  1  2]\n",
            " [ 0  0  0  3]\n",
            " [ 4  5  6  7]\n",
            " [ 8  9 10 11]\n",
            " [12 13 14 15]\n",
            " [ 0  0  0 16]\n",
            " [ 0  0  0 17]\n",
            " [ 0  0 18 19]\n",
            " [ 0  0 20 21]\n",
            " [ 0  0  0 22]]\n",
            "23\n"
          ]
        }
      ]
    },
    {
      "cell_type": "code",
      "source": [
        "# 총몇개의 인덱스가 입력되어야하는지 정하고 word_size 라는 변수를 만든후 길이를 세는 \n",
        "# len()함수 이용 word_index 값을 앞서만든 변수에 대입 이때 단어맨 앞에 0이 먼저 나와야함으로 +1을 해줌 \n",
        "word_size = len(token.word_index) +1 "
      ],
      "metadata": {
        "id": "6fud5R3-sW5B"
      },
      "execution_count": null,
      "outputs": []
    },
    {
      "cell_type": "code",
      "source": [
        "# 출력 장치 만들차례 word_size만큼 입력 값을 이용해 여덟개의 임베딩 결과를 만들겠습니다.\n",
        "# 여기서 8라이는 숫자는 임의로 정한것 이고 데이터 에 따라 적절한 값으로 바꿀수 있습니다 \n",
        "# 이때 만들어진 여덟개의 임베딩 결과는 우리 눈에 보이지 않습니다.\n",
        "# 끝으로 매번 입력될 '단어수'를 정합니다 패딩과정에 거쳐 4개로 길이를 맞추어 주었으므로 네개의 단어가 들어가게하면 임베딩과정 은 다음한줄로 표현됩니다 \n",
        "# Embedding(word_size, 8, input_length =4)\n",
        "# 모델을 만들어봅시다 \n",
        "model = Sequential()\n",
        "model.add(Embedding(word_size, 8, input_length =4))\n",
        "model.add(Flatten())\n",
        "model.add(Dense(1,activation='sigmoid'))\n",
        "model.summary()\n",
        "# 최적화 함수 adam을 사용하고 오차함수로는 binara_categorical을 사용했습니다 \n",
        "# 그리고 20번 반복하고나서 정확도를 계산해 출력하게 했습니다. \n",
        "model.compile(optimizer='adam', loss='binary_crossentropy',metrics= ['accuracy'])\n",
        "model.fit(padded_x, classes, epochs=20)\n",
        "print(\"\\n Accuracy: %.4f\" % (model.evaluate(padded_x, classes)[1]))"
      ],
      "metadata": {
        "colab": {
          "base_uri": "https://localhost:8080/"
        },
        "id": "AoKaigvFsirF",
        "outputId": "f01f09d4-4cf9-4730-8cb0-422769faa336"
      },
      "execution_count": null,
      "outputs": [
        {
          "output_type": "stream",
          "name": "stdout",
          "text": [
            "Model: \"sequential_7\"\n",
            "_________________________________________________________________\n",
            " Layer (type)                Output Shape              Param #   \n",
            "=================================================================\n",
            " embedding_7 (Embedding)     (None, 4, 8)              184       \n",
            "                                                                 \n",
            " flatten_4 (Flatten)         (None, 32)                0         \n",
            "                                                                 \n",
            " dense_4 (Dense)             (None, 1)                 33        \n",
            "                                                                 \n",
            "=================================================================\n",
            "Total params: 217\n",
            "Trainable params: 217\n",
            "Non-trainable params: 0\n",
            "_________________________________________________________________\n",
            "Epoch 1/20\n",
            "1/1 [==============================] - 0s 500ms/step - loss: 0.6934 - accuracy: 0.5000\n",
            "Epoch 2/20\n",
            "1/1 [==============================] - 0s 7ms/step - loss: 0.6914 - accuracy: 0.5000\n",
            "Epoch 3/20\n",
            "1/1 [==============================] - 0s 6ms/step - loss: 0.6895 - accuracy: 0.6000\n",
            "Epoch 4/20\n",
            "1/1 [==============================] - 0s 8ms/step - loss: 0.6875 - accuracy: 0.6000\n",
            "Epoch 5/20\n",
            "1/1 [==============================] - 0s 6ms/step - loss: 0.6856 - accuracy: 0.7000\n",
            "Epoch 6/20\n",
            "1/1 [==============================] - 0s 6ms/step - loss: 0.6837 - accuracy: 0.7000\n",
            "Epoch 7/20\n",
            "1/1 [==============================] - 0s 6ms/step - loss: 0.6817 - accuracy: 0.9000\n",
            "Epoch 8/20\n",
            "1/1 [==============================] - 0s 6ms/step - loss: 0.6798 - accuracy: 0.9000\n",
            "Epoch 9/20\n",
            "1/1 [==============================] - 0s 6ms/step - loss: 0.6779 - accuracy: 0.9000\n",
            "Epoch 10/20\n",
            "1/1 [==============================] - 0s 8ms/step - loss: 0.6760 - accuracy: 0.9000\n",
            "Epoch 11/20\n",
            "1/1 [==============================] - 0s 7ms/step - loss: 0.6740 - accuracy: 0.9000\n",
            "Epoch 12/20\n",
            "1/1 [==============================] - 0s 10ms/step - loss: 0.6721 - accuracy: 1.0000\n",
            "Epoch 13/20\n",
            "1/1 [==============================] - 0s 8ms/step - loss: 0.6702 - accuracy: 1.0000\n",
            "Epoch 14/20\n",
            "1/1 [==============================] - 0s 7ms/step - loss: 0.6682 - accuracy: 1.0000\n",
            "Epoch 15/20\n",
            "1/1 [==============================] - 0s 10ms/step - loss: 0.6663 - accuracy: 1.0000\n",
            "Epoch 16/20\n",
            "1/1 [==============================] - 0s 6ms/step - loss: 0.6644 - accuracy: 1.0000\n",
            "Epoch 17/20\n",
            "1/1 [==============================] - 0s 7ms/step - loss: 0.6624 - accuracy: 1.0000\n",
            "Epoch 18/20\n",
            "1/1 [==============================] - 0s 8ms/step - loss: 0.6604 - accuracy: 1.0000\n",
            "Epoch 19/20\n",
            "1/1 [==============================] - 0s 7ms/step - loss: 0.6585 - accuracy: 1.0000\n",
            "Epoch 20/20\n",
            "1/1 [==============================] - 0s 7ms/step - loss: 0.6565 - accuracy: 1.0000\n",
            "1/1 [==============================] - 0s 120ms/step - loss: 0.6545 - accuracy: 1.0000\n",
            "\n",
            " Accuracy: 1.0000\n"
          ]
        }
      ]
    }
  ]
}