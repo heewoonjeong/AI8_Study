{
 "cells": [
  {
   "cell_type": "code",
   "execution_count": 1,
   "id": "6ed3a013",
   "metadata": {},
   "outputs": [
    {
     "name": "stdout",
     "output_type": "stream",
     "text": [
      "reversed nums : <list_reverseiterator object at 0x00000206330E36A0>\n",
      "6\n",
      "5\n",
      "4\n",
      "3\n",
      "2\n",
      "1\n"
     ]
    },
    {
     "ename": "StopIteration",
     "evalue": "",
     "output_type": "error",
     "traceback": [
      "\u001b[1;31m---------------------------------------------------------------------------\u001b[0m",
      "\u001b[1;31mStopIteration\u001b[0m                             Traceback (most recent call last)",
      "Input \u001b[1;32mIn [1]\u001b[0m, in \u001b[0;36m<cell line: 13>\u001b[1;34m()\u001b[0m\n\u001b[0;32m     11\u001b[0m \u001b[38;5;28mprint\u001b[39m(\u001b[38;5;28mnext\u001b[39m(r_nums))\n\u001b[0;32m     12\u001b[0m \u001b[38;5;28mprint\u001b[39m(\u001b[38;5;28mnext\u001b[39m(r_nums))\n\u001b[1;32m---> 13\u001b[0m \u001b[38;5;28mprint\u001b[39m(\u001b[38;5;28;43mnext\u001b[39;49m\u001b[43m(\u001b[49m\u001b[43mr_nums\u001b[49m\u001b[43m)\u001b[49m)\n",
      "\u001b[1;31mStopIteration\u001b[0m: "
     ]
    }
   ],
   "source": [
    "nums = [1,2,3,4,5,6]\n",
    "\n",
    "r_nums = reversed(nums) \n",
    "\n",
    "print(\"reversed nums :\" , r_nums) \n",
    "\n",
    "print(next(r_nums))\n",
    "print(next(r_nums))\n",
    "print(next(r_nums))\n",
    "print(next(r_nums))\n",
    "print(next(r_nums))\n",
    "print(next(r_nums))\n",
    "print(next(r_nums))"
   ]
  },
  {
   "cell_type": "code",
   "execution_count": null,
   "id": "336a56f9",
   "metadata": {},
   "outputs": [],
   "source": [
    "# chap.함수"
   ]
  },
  {
   "cell_type": "code",
   "execution_count": 4,
   "id": "e994a7e4",
   "metadata": {
    "scrolled": true
   },
   "outputs": [
    {
     "name": "stdout",
     "output_type": "stream",
     "text": [
      "hello\n",
      "hello\n",
      "hello\n"
     ]
    }
   ],
   "source": [
    "print_3_times() # 함수를 호출하기전에 함수는 선언이 되어 있어야 함  "
   ]
  },
  {
   "cell_type": "code",
   "execution_count": 5,
   "id": "c9b3fa54",
   "metadata": {},
   "outputs": [
    {
     "name": "stdout",
     "output_type": "stream",
     "text": [
      "test\n",
      "test\n",
      "test\n"
     ]
    }
   ],
   "source": [
    "# 1. 함수 만들기 :deg 함수명() : \n",
    "# 코드 작성 ... \n",
    "def print_3_times():\n",
    "    print(\"hello\")\n",
    "    print(\"hello\")\n",
    "    print(\"hello\") \n",
    "\n",
    "# 매개변수가 있는 함수 정의 \n",
    "def print_n_times(value, n):\n",
    "    for i in range(n):\n",
    "        print(value)\n",
    "        \n",
    "print_n_times('test',3)"
   ]
  },
  {
   "cell_type": "code",
   "execution_count": 30,
   "id": "087d280e",
   "metadata": {},
   "outputs": [
    {
     "name": "stdout",
     "output_type": "stream",
     "text": [
      "test\n",
      "hello\n",
      "python\n",
      "\n",
      "test\n",
      "hello\n",
      "python\n",
      "\n"
     ]
    }
   ],
   "source": [
    "# 가변 매개 변수 : 함수명(매개변수, ..,*가변, 매개변수명) \n",
    "def print_n_var_times(n, *values) : \n",
    "    for i in range(n):\n",
    "        for value in values:\n",
    "            print(value)\n",
    "        print()\n",
    "print_n_var_times(2, 'test' , 'hello', 'python')"
   ]
  },
  {
   "cell_type": "code",
   "execution_count": 37,
   "id": "650d7ee8",
   "metadata": {},
   "outputs": [
    {
     "name": "stdout",
     "output_type": "stream",
     "text": [
      "test\n",
      "test\n",
      "\n"
     ]
    }
   ],
   "source": [
    "# 가변 매개 변수 : 함수명(매개변수, ..,*기본매개변수=값) \n",
    "def print_n_times(values, n=2): \n",
    "    for i in range(n):\n",
    "        print(values)\n",
    "    print()\n",
    "print_n_times('test') "
   ]
  },
  {
   "cell_type": "code",
   "execution_count": 45,
   "id": "7e49be1b",
   "metadata": {},
   "outputs": [
    {
     "ename": "TypeError",
     "evalue": "'str' object cannot be interpreted as an integer",
     "output_type": "error",
     "traceback": [
      "\u001b[1;31m---------------------------------------------------------------------------\u001b[0m",
      "\u001b[1;31mTypeError\u001b[0m                                 Traceback (most recent call last)",
      "Input \u001b[1;32mIn [45]\u001b[0m, in \u001b[0;36m<cell line: 7>\u001b[1;34m()\u001b[0m\n\u001b[0;32m      5\u001b[0m             \u001b[38;5;28mprint\u001b[39m(value)\n\u001b[0;32m      6\u001b[0m         \u001b[38;5;28mprint\u001b[39m()\n\u001b[1;32m----> 7\u001b[0m \u001b[43mprint_n_times\u001b[49m\u001b[43m(\u001b[49m\u001b[38;5;124;43m'\u001b[39;49m\u001b[38;5;124;43mtest\u001b[39;49m\u001b[38;5;124;43m'\u001b[39;49m\u001b[43m \u001b[49m\u001b[43m,\u001b[49m\u001b[43m \u001b[49m\u001b[38;5;124;43m'\u001b[39;49m\u001b[38;5;124;43mhello\u001b[39;49m\u001b[38;5;124;43m'\u001b[39;49m\u001b[43m,\u001b[49m\u001b[43m \u001b[49m\u001b[38;5;124;43m'\u001b[39;49m\u001b[38;5;124;43mpython\u001b[39;49m\u001b[38;5;124;43m'\u001b[39;49m\u001b[43m)\u001b[49m\n\u001b[0;32m      8\u001b[0m print_n_times(\u001b[38;5;124m'\u001b[39m\u001b[38;5;124mtest\u001b[39m\u001b[38;5;124m'\u001b[39m , \u001b[38;5;124m'\u001b[39m\u001b[38;5;124mhello\u001b[39m\u001b[38;5;124m'\u001b[39m, \u001b[38;5;124m'\u001b[39m\u001b[38;5;124mpython\u001b[39m\u001b[38;5;124m'\u001b[39m)\n",
      "Input \u001b[1;32mIn [45]\u001b[0m, in \u001b[0;36mprint_n_times\u001b[1;34m(n, *values)\u001b[0m\n\u001b[0;32m      2\u001b[0m \u001b[38;5;28;01mdef\u001b[39;00m \u001b[38;5;21mprint_n_times\u001b[39m(n\u001b[38;5;241m=\u001b[39m\u001b[38;5;241m2\u001b[39m, \u001b[38;5;241m*\u001b[39mvalues) : \n\u001b[1;32m----> 3\u001b[0m     \u001b[38;5;28;01mfor\u001b[39;00m i \u001b[38;5;129;01min\u001b[39;00m \u001b[38;5;28;43mrange\u001b[39;49m\u001b[43m(\u001b[49m\u001b[43mn\u001b[49m\u001b[43m)\u001b[49m:\n\u001b[0;32m      4\u001b[0m         \u001b[38;5;28;01mfor\u001b[39;00m value \u001b[38;5;129;01min\u001b[39;00m values:\n\u001b[0;32m      5\u001b[0m             \u001b[38;5;28mprint\u001b[39m(value)\n",
      "\u001b[1;31mTypeError\u001b[0m: 'str' object cannot be interpreted as an integer"
     ]
    }
   ],
   "source": [
    "# 기변 매개 변수와 가변 매개변수가 같이오는경우 :가변 기본 순서로 \n",
    "def print_n_times(n=2, *values) : \n",
    "    for i in range(n):\n",
    "        for value in values:\n",
    "            print(value)\n",
    "        print()\n",
    "print_n_times('test' , 'hello', 'python')\n",
    "print_n_times('test' , 'hello', 'python') #error\n"
   ]
  },
  {
   "cell_type": "code",
   "execution_count": 51,
   "id": "cf5cac98",
   "metadata": {},
   "outputs": [
    {
     "name": "stdout",
     "output_type": "stream",
     "text": [
      "60\n",
      "40\n",
      "220\n",
      "320\n"
     ]
    }
   ],
   "source": [
    "# 일반 매개변수, 가변 매개변수, 키워드 매개변수 순서로\n",
    "def test_func(a, b=10 ,c=20):\n",
    "    print(a+b+c)\n",
    "    \n",
    "test_func(a=10, b=20,c=30) # 60\n",
    "test_func(a=10) #10 +10 +20 \n",
    "test_func(c=100, b=20, a=100)\n",
    "test_func(a=10,c=300) "
   ]
  },
  {
   "cell_type": "code",
   "execution_count": 55,
   "id": "960f5c35",
   "metadata": {},
   "outputs": [
    {
     "name": "stdout",
     "output_type": "stream",
     "text": [
      "60 130\n"
     ]
    }
   ],
   "source": [
    "def test_func(a, b=10 ,c=20): \n",
    "\n",
    "    return (a+b+c) # 함수 호출한 곳으로 값을 돌려 줌 \n",
    "\n",
    "a = test_func(a=10, b=20,c=30)\n",
    "b = test_func(100) \n",
    "print(a,b)"
   ]
  },
  {
   "cell_type": "code",
   "execution_count": 61,
   "id": "4de4038e",
   "metadata": {},
   "outputs": [],
   "source": [
    "def test_f():\n",
    "    global atest\n",
    "    print(atest) \n",
    "    func_val = 'func var'"
   ]
  },
  {
   "cell_type": "code",
   "execution_count": 33,
   "id": "edd78fb3",
   "metadata": {},
   "outputs": [
    {
     "ename": "NameError",
     "evalue": "name 'test_f' is not defined",
     "output_type": "error",
     "traceback": [
      "\u001b[1;31m---------------------------------------------------------------------------\u001b[0m",
      "\u001b[1;31mNameError\u001b[0m                                 Traceback (most recent call last)",
      "Input \u001b[1;32mIn [33]\u001b[0m, in \u001b[0;36m<cell line: 2>\u001b[1;34m()\u001b[0m\n\u001b[0;32m      1\u001b[0m atest \u001b[38;5;241m=\u001b[39m \u001b[38;5;124m'\u001b[39m\u001b[38;5;124mtest\u001b[39m\u001b[38;5;124m'\u001b[39m\n\u001b[1;32m----> 2\u001b[0m \u001b[43mtest_f\u001b[49m()\n\u001b[0;32m      3\u001b[0m func_val\n",
      "\u001b[1;31mNameError\u001b[0m: name 'test_f' is not defined"
     ]
    }
   ],
   "source": [
    "atest = 'test'\n",
    "test_f()\n",
    "func_val"
   ]
  },
  {
   "cell_type": "code",
   "execution_count": 40,
   "id": "bb7ae1c2",
   "metadata": {},
   "outputs": [],
   "source": [
    "# start , stop, step 을 이용하여 합을 구하는 함수 작성\n",
    "def sum_func(start =0 ,stop=100, step=1):\n",
    "    total = 0\n",
    "    for i in range(start ,stop+1, step):\n",
    "        total += i\n",
    "    return total"
   ]
  },
  {
   "cell_type": "code",
   "execution_count": 41,
   "id": "d0e9e4e6",
   "metadata": {
    "scrolled": false
   },
   "outputs": [
    {
     "name": "stdout",
     "output_type": "stream",
     "text": [
      " 0 부터 100까지 합을 구함: 5050\n"
     ]
    }
   ],
   "source": [
    "print(\" 0 부터 100까지 합을 구함:\" ,sum_func())"
   ]
  },
  {
   "cell_type": "code",
   "execution_count": null,
   "id": "12b1b0d6",
   "metadata": {},
   "outputs": [],
   "source": [
    "# 함수의 활용 : 자기 함수 호출 ->\n",
    "# factorial 함수 정의\n",
    "def fac_func(n):\n",
    "    if n == 0 :\n",
    "        return 1\n",
    "    else:\n",
    "        return n *fac_func(n-1)"
   ]
  },
  {
   "cell_type": "code",
   "execution_count": null,
   "id": "f799168c",
   "metadata": {
    "scrolled": true
   },
   "outputs": [],
   "source": [
    "fac_func(5)"
   ]
  },
  {
   "cell_type": "code",
   "execution_count": null,
   "id": "80783de1",
   "metadata": {},
   "outputs": [],
   "source": [
    "# 피보나치를 구하는 함수 작성 : fibo(n) = fibo(n-1) + fibo(n-2), n==1 or 2이면 1\n",
    "def fibo(n):\n",
    "    global cnt \n",
    "    cnt +=1\n",
    "    if n == 1 or n ==2:\n",
    "        return 1\n",
    "    else: \n",
    "        return fibo(n-1) + fibo(n-2)"
   ]
  },
  {
   "cell_type": "code",
   "execution_count": 52,
   "id": "6ac42b63",
   "metadata": {
    "scrolled": true
   },
   "outputs": [
    {
     "data": {
      "text/plain": [
       "9227465"
      ]
     },
     "execution_count": 52,
     "metadata": {},
     "output_type": "execute_result"
    }
   ],
   "source": [
    "cnt=0\n",
    "fibo(35)"
   ]
  },
  {
   "cell_type": "code",
   "execution_count": null,
   "id": "bb9db43f",
   "metadata": {},
   "outputs": [],
   "source": [
    "# 메모화: 메모 변수를 생성 \n",
    "dict_mem = {1:1, \n",
    "            2:1}\n",
    "\n",
    "cnt=0\n",
    "def fibo_mem(n):\n",
    "    global cnt\n",
    "    cnt += 1 \n",
    "    if n in dict_mem:\n",
    "        return dict_mem[n]\n",
    "    else:\n",
    "        output = fibo_mem(n-1) + fibo_mem(n-2)\n",
    "        dict_mem[n] =output\n",
    "        return output "
   ]
  },
  {
   "cell_type": "code",
   "execution_count": null,
   "id": "e19320cb",
   "metadata": {},
   "outputs": [],
   "source": [
    "fibo_mem(100)"
   ]
  },
  {
   "cell_type": "code",
   "execution_count": null,
   "id": "e31c94af",
   "metadata": {},
   "outputs": [],
   "source": [
    "(a,b) = (10,20)\n",
    "print(a)\n",
    "b,a=a,b\n",
    "print(a,b)"
   ]
  },
  {
   "cell_type": "code",
   "execution_count": null,
   "id": "b55e3775",
   "metadata": {},
   "outputs": [],
   "source": [
    "def test():\n",
    "    return (10, 20)\n",
    "\n",
    "(a,b) =test()\n",
    "print(a,b)\n"
   ]
  },
  {
   "cell_type": "code",
   "execution_count": null,
   "id": "863c2a8e",
   "metadata": {
    "scrolled": true
   },
   "outputs": [],
   "source": [
    "# tuple -> a_tuple = (10,20,30) -> 자료의 수정 불가\n",
    "for i, value in enumerate([1,2,3,4,]):\n",
    "    print(\"{}번째의 값{}\".format(i,value)) \n",
    "\n",
    "a_tuple = (10,20,30)\n",
    "for value in a_tuple:\n",
    "    print(\"tuple의 값 : \", value) \n",
    "# a_tuple[0] = 10 # error tuple 은 자료 수정 불가"
   ]
  },
  {
   "cell_type": "code",
   "execution_count": null,
   "id": "d40d5604",
   "metadata": {},
   "outputs": [],
   "source": [
    "# 람다 : lambda \n",
    "# 함수의 매개변수로 함수명 전달하기 \n",
    "def call_times(func):\n",
    "    for i in range(5):\n",
    "        func()\n",
    "def print_hello():\n",
    "    print(\"hello\")\n",
    "    \n",
    "call_times(print_hello)"
   ]
  },
  {
   "cell_type": "code",
   "execution_count": null,
   "id": "b6c53bbf",
   "metadata": {},
   "outputs": [],
   "source": [
    "def power(item):\n",
    "    return item * item\n",
    "def under_3(item):\n",
    "    return item < 3"
   ]
  },
  {
   "cell_type": "code",
   "execution_count": null,
   "id": "e4e11a0b",
   "metadata": {},
   "outputs": [],
   "source": [
    "# map (함수명 ,리스트) -> 리스트의 각각의 값을 함수에 적용 \n",
    "# filter(함수명, 리스트) -> 함수에 리턴값이 True인 자료만 추출\n",
    "input_list = [1,2,3,4,5]\n",
    "\n",
    "output = map(power, input_list)\n",
    "print(list(output))\n",
    "\n",
    "print(list(filter(under_3, input_list)))"
   ]
  },
  {
   "cell_type": "code",
   "execution_count": null,
   "id": "0753ba79",
   "metadata": {},
   "outputs": [],
   "source": [
    "# lambda 매개변수 : 리턴 값\n",
    "power = lambda x: x*x\n",
    "unter_3 = lambda x: x < 3 \n",
    "\n",
    "input_list = [1,2,3,4,5]\n",
    "\n",
    "output = map(power, input_list)\n",
    "print(list(output))\n",
    "\n",
    "print(list(filter(under_3, input_list)))"
   ]
  },
  {
   "cell_type": "code",
   "execution_count": 123,
   "id": "5759cf3c",
   "metadata": {},
   "outputs": [
    {
     "name": "stdout",
     "output_type": "stream",
     "text": [
      "[1, 4, 9, 16, 25]\n",
      "[1, 2]\n"
     ]
    }
   ],
   "source": [
    "# lambda 매개변수 : 리턴 값\n",
    "input_list = [1,2,3,4,5]\n",
    "\n",
    "output = map(lambda x: x*x, input_list)\n",
    "print(list(output))\n",
    "\n",
    "print(list(filter(lambda x: x < 3, input_list)))"
   ]
  },
  {
   "cell_type": "code",
   "execution_count": 124,
   "id": "ba7a32f8",
   "metadata": {},
   "outputs": [],
   "source": [
    "# 파일 처리 : open() , file.write(), file.close() , file.read()\n",
    "# 현재 경로에서 새로운 디렉토리 dataset 을 생성 \n",
    "# dataset 안에 새로운 파일test.txt파일 생성\n",
    "# test.txt 파일에 'hello python programming' 을 작성하고 파일 close()\n",
    "! mkdir dataset "
   ]
  },
  {
   "cell_type": "code",
   "execution_count": 7,
   "id": "1da547d5",
   "metadata": {},
   "outputs": [],
   "source": [
    "file = open ('./dataset/test.txt' , 'w')\n",
    "file.write('hello python programming\\n')\n",
    "file.close()"
   ]
  },
  {
   "cell_type": "code",
   "execution_count": 8,
   "id": "9cff63d3",
   "metadata": {},
   "outputs": [
    {
     "name": "stdout",
     "output_type": "stream",
     "text": [
      "hello python programming\n",
      "\n"
     ]
    }
   ],
   "source": [
    "file = open ('./dataset/test.txt' , 'r+')\n",
    "contents=file.read()\n",
    "print(contents)\n",
    "file.write('\\nhello python programming read ')\n",
    "file.close()"
   ]
  },
  {
   "cell_type": "code",
   "execution_count": 25,
   "id": "6dc4a2cc",
   "metadata": {},
   "outputs": [
    {
     "ename": "IndentationError",
     "evalue": "unexpected indent (3016252800.py, line 5)",
     "output_type": "error",
     "traceback": [
      "\u001b[1;36m  Input \u001b[1;32mIn [25]\u001b[1;36m\u001b[0m\n\u001b[1;33m    file.write('test')\u001b[0m\n\u001b[1;37m    ^\u001b[0m\n\u001b[1;31mIndentationError\u001b[0m\u001b[1;31m:\u001b[0m unexpected indent\n"
     ]
    }
   ],
   "source": [
    "# file open with 와 같이 사용 -> with 종료시 자동으로 파일 close 됨 \n",
    "with open('./dataset/test.txt' , 'r+') as file:\n",
    "    contents = file.read()\n",
    "print(contents)\n",
    "file.write('test') "
   ]
  },
  {
   "cell_type": "code",
   "execution_count": 12,
   "id": "706bd432",
   "metadata": {},
   "outputs": [
    {
     "data": {
      "text/plain": [
       "'C:\\\\Users\\\\hura3\\\\python-src'"
      ]
     },
     "execution_count": 12,
     "metadata": {},
     "output_type": "execute_result"
    }
   ],
   "source": [
    "import os\n",
    "os.getcwd() #현재 디렉토리의 전체 full경로 보여줌 "
   ]
  },
  {
   "cell_type": "code",
   "execution_count": 13,
   "id": "a71aa33e",
   "metadata": {
    "scrolled": true
   },
   "outputs": [
    {
     "name": "stdout",
     "output_type": "stream",
     "text": [
      "main start\n",
      "First\n",
      "1\n",
      "main 111 start\n",
      "Second\n",
      "2\n",
      "main 222 start\n",
      "Third\n",
      "3\n"
     ]
    }
   ],
   "source": [
    "# 제너 레이터 함수 작성 : 함수 내부에 yield 키워드를 사용\n",
    "def gen_test():\n",
    "    print('First')\n",
    "    yield 1 \n",
    "    \n",
    "    print(\"Second\")\n",
    "    yield 2 \n",
    "    \n",
    "    print(\"Third\")\n",
    "    yield 3 \n",
    "    \n",
    "o_func = gen_test()\n",
    "\n",
    "print(\"main start\")\n",
    "a = next(o_func)\n",
    "print(a)\n",
    "\n",
    "print(\"main 111 start\")\n",
    "a = next(o_func)\n",
    "print(a)\n",
    "\n",
    "print(\"main 222 start\")\n",
    "a = next(o_func)\n",
    "print(a)"
   ]
  },
  {
   "cell_type": "code",
   "execution_count": 15,
   "id": "1ef5ef75",
   "metadata": {},
   "outputs": [
    {
     "name": "stdout",
     "output_type": "stream",
     "text": [
      "{'제목': '혼자 공부하는 파이썬', '가격': 18000}\n",
      "{'제목': '혼자 공부하는 파이썬222', '가격': 26000}\n"
     ]
    }
   ],
   "source": [
    "books = [{\"제목\" : '혼자 공부하는 파이썬', \"가격\": 18000},\n",
    "        {\"제목\" : '혼자 공부하는 파이썬222', \"가격\": 26000},\n",
    "        {\"제목\" : '혼자 공부하는 자바', \"가격\": 24000}]\n",
    "#가격이 가장 저렴한책 정보출력 \n",
    "print(min(books, key = lambda book : book['가격']))\n",
    "#가격이 가장 비싼책 정보출력 \n",
    "print(max(books, key = lambda book : book['가격']))"
   ]
  },
  {
   "cell_type": "code",
   "execution_count": 16,
   "id": "566b3ab2",
   "metadata": {},
   "outputs": [
    {
     "data": {
      "text/plain": [
       "{'제목': '혼자 공부하는 파이썬', '가격': 18000}"
      ]
     },
     "execution_count": 16,
     "metadata": {},
     "output_type": "execute_result"
    }
   ],
   "source": [
    "def 가격추출함수(book):\n",
    "    return book ['가격']\n",
    "\n",
    "min(books, key=가격추출함수)"
   ]
  },
  {
   "cell_type": "code",
   "execution_count": 17,
   "id": "8a66d271",
   "metadata": {},
   "outputs": [
    {
     "name": "stdout",
     "output_type": "stream",
     "text": [
      "{'제목': '혼자 공부하는 파이썬', '가격': 18000}\n",
      "{'제목': '혼자 공부하는 자바', '가격': 24000}\n",
      "{'제목': '혼자 공부하는 파이썬222', '가격': 26000}\n"
     ]
    }
   ],
   "source": [
    "books.sort(key= lambda book :book ['가격'])\n",
    "for book in books:\n",
    "    print(book)"
   ]
  },
  {
   "cell_type": "code",
   "execution_count": 18,
   "id": "afe70586",
   "metadata": {},
   "outputs": [
    {
     "data": {
      "text/plain": [
       "[1, 100, 3, 4, 5]"
      ]
     },
     "execution_count": 18,
     "metadata": {},
     "output_type": "execute_result"
    }
   ],
   "source": [
    "a= [1,2,3,4,5]\n",
    "b= a\n",
    "b[1] = 100 \n",
    "a"
   ]
  },
  {
   "cell_type": "code",
   "execution_count": 19,
   "id": "7b3cc41c",
   "metadata": {},
   "outputs": [
    {
     "name": "stdout",
     "output_type": "stream",
     "text": [
      "a :  [1, 100, 3, 4, 5]\n",
      "c :  [1, 300, 3, 4, 5]\n"
     ]
    }
   ],
   "source": [
    "c= a.copy()\n",
    "c[1] = 300\n",
    "print(\"a : \", a)\n",
    "print(\"c : \", c)"
   ]
  },
  {
   "cell_type": "markdown",
   "id": "ca6d0bed",
   "metadata": {},
   "source": [
    "## 6. 예외처리\n"
   ]
  },
  {
   "cell_type": "code",
   "execution_count": 20,
   "id": "2849fd27",
   "metadata": {},
   "outputs": [
    {
     "name": "stdout",
     "output_type": "stream",
     "text": [
      "정수 입력\n",
      "정수가 입력되지 않음\n"
     ]
    }
   ],
   "source": [
    "# 실행 오류 : try ~ except ~ else ~finally\n",
    "# 실행 오류가 발생할 수 있는 코드 작성 \n",
    "try:\n",
    "    input_num = int(input(\"정수 입력\"))\n",
    "    \n",
    "    print (\"원의 반지름 : \" , input_num)\n",
    "    print (\"원의 둘레:\", input_num * 2 * 3.14)\n",
    "except:\n",
    "    print(\"정수가 입력되지 않음\")"
   ]
  },
  {
   "cell_type": "code",
   "execution_count": 21,
   "id": "939ce03e",
   "metadata": {
    "scrolled": true
   },
   "outputs": [
    {
     "name": "stdout",
     "output_type": "stream",
     "text": [
      "정수 입력\n",
      "정수가 입력되지 않음\n",
      "program end !!\n"
     ]
    }
   ],
   "source": [
    "# # 실행 오류 : try ~ except ~ else ~finally\n",
    "# # \n",
    "# try: \n",
    "#     예외 발생 코드 \n",
    "#     except:\n",
    "#     예외 발생시 실행 코드\n",
    "#     else:\n",
    "#       정상 작동시 실행 코드\n",
    "try:\n",
    "    input_num = int(input(\"정수 입력\"))\n",
    "except:\n",
    "    print(\"정수가 입력되지 않음\")\n",
    "else:\n",
    "    print (\"원의 반지름 : \" , input_num)\n",
    "    print (\"원의 둘레:\", input_num * 2 * 3.14)\n",
    "finally:\n",
    "        print(\"program end !!\") # 무조건 실행"
   ]
  },
  {
   "cell_type": "code",
   "execution_count": 22,
   "id": "68941da1",
   "metadata": {},
   "outputs": [
    {
     "name": "stdout",
     "output_type": "stream",
     "text": [
      "이름 성적 입력\n",
      "입력 자료 검증 list index out of range\n",
      "try end!!\n"
     ]
    },
    {
     "data": {
      "text/plain": [
       "True"
      ]
     },
     "execution_count": 22,
     "metadata": {},
     "output_type": "execute_result"
    }
   ],
   "source": [
    "# file 처리시 예외 처리 응용\n",
    "try:\n",
    "    file = open ('./dataset/try.txt' , 'w')\n",
    "    input_data = input(\"이름 성적 입력\").split()\n",
    "    score = int(input_data[1])\n",
    "    file.write(\"input_data\" +str(score))\n",
    "except Exception as e:\n",
    "    print(\"입력 자료 검증\", e )\n",
    "else: \n",
    "    print(\"정상 입력\")\n",
    "finally:\n",
    "    print(\"try end!!\")\n",
    "    file.close()\n",
    "\n",
    "#file.write('\\nend\\n') \n",
    "file.closed"
   ]
  },
  {
   "cell_type": "code",
   "execution_count": 23,
   "id": "fc1cb215",
   "metadata": {},
   "outputs": [
    {
     "name": "stdout",
     "output_type": "stream",
     "text": [
      "try 구문 실행\n",
      "try end!!\n"
     ]
    }
   ],
   "source": [
    "def test_func():\n",
    "    try:\n",
    "        print(\"try 구문 실행\")\n",
    "        return\n",
    "    except:\n",
    "        print(\"except 구문실행 \")\n",
    "    else: \n",
    "        print(\"else 구문실행\")\n",
    "    finally:\n",
    "        print(\"try end!!\")\n",
    "test_func() "
   ]
  },
  {
   "cell_type": "code",
   "execution_count": 24,
   "id": "fb744638",
   "metadata": {},
   "outputs": [
    {
     "name": "stdout",
     "output_type": "stream",
     "text": [
      "try 구문 실행\n",
      "try end!!\n"
     ]
    }
   ],
   "source": [
    "while True:\n",
    "    try:\n",
    "        print(\"try 구문 실행\")\n",
    "        break\n",
    "    except:\n",
    "        print(\"except 구문실행 \")\n",
    "    else: \n",
    "        print(\"else 구문실행\")\n",
    "    finally:\n",
    "        print(\"try end!!\")\n"
   ]
  },
  {
   "cell_type": "code",
   "execution_count": null,
   "id": "2c7078bd",
   "metadata": {},
   "outputs": [],
   "source": []
  }
 ],
 "metadata": {
  "kernelspec": {
   "display_name": "Python 3 (ipykernel)",
   "language": "python",
   "name": "python3"
  },
  "language_info": {
   "codemirror_mode": {
    "name": "ipython",
    "version": 3
   },
   "file_extension": ".py",
   "mimetype": "text/x-python",
   "name": "python",
   "nbconvert_exporter": "python",
   "pygments_lexer": "ipython3",
   "version": "3.9.12"
  }
 },
 "nbformat": 4,
 "nbformat_minor": 5
}
