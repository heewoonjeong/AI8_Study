{
 "cells": [
  {
   "cell_type": "markdown",
   "id": "efcd6255",
   "metadata": {},
   "source": [
    "## chap. 02 딕셔너리와 반복문"
   ]
  },
  {
   "cell_type": "code",
   "execution_count": 2,
   "id": "6a61cbf1",
   "metadata": {},
   "outputs": [
    {
     "name": "stdout",
     "output_type": "stream",
     "text": [
      "{'name': '홍길동', 'age': 30}\n",
      "<class 'dict'>\n"
     ]
    }
   ],
   "source": [
    "# 딕셔너리 선언 : {키:값, ... },  리스트 [ 값,... ]\n",
    "dict_a = { 'name':'홍길동', 'age' : 30}\n",
    "\n",
    "print(dict_a)\n",
    "print(type(dict_a))"
   ]
  },
  {
   "cell_type": "code",
   "execution_count": 4,
   "id": "87da4a0d",
   "metadata": {},
   "outputs": [],
   "source": [
    "name = '키'"
   ]
  },
  {
   "cell_type": "code",
   "execution_count": 5,
   "id": "a147c785",
   "metadata": {},
   "outputs": [],
   "source": [
    "dict_b = {name:10}"
   ]
  },
  {
   "cell_type": "code",
   "execution_count": 6,
   "id": "fae2f025",
   "metadata": {},
   "outputs": [
    {
     "data": {
      "text/plain": [
       "{'키': 10}"
      ]
     },
     "execution_count": 6,
     "metadata": {},
     "output_type": "execute_result"
    }
   ],
   "source": [
    "dict_b"
   ]
  },
  {
   "cell_type": "code",
   "execution_count": 7,
   "id": "62e683c4",
   "metadata": {},
   "outputs": [
    {
     "data": {
      "text/plain": [
       "{'name': '홍길동', 'age': 30, 'title': '딕셔너리'}"
      ]
     },
     "execution_count": 7,
     "metadata": {},
     "output_type": "execute_result"
    }
   ],
   "source": [
    "# 딕셔너리에 값 추가 / 제거 하기 : 딕셔너리[키] = 값\n",
    "# 삭제는  del 딕셔너리[키]\n",
    "dict_a['title'] = '딕셔너리'\n",
    "dict_a"
   ]
  },
  {
   "cell_type": "code",
   "execution_count": 8,
   "id": "82faad21",
   "metadata": {},
   "outputs": [
    {
     "data": {
      "text/plain": [
       "{'age': 30, 'title': '딕셔너리'}"
      ]
     },
     "execution_count": 8,
     "metadata": {},
     "output_type": "execute_result"
    }
   ],
   "source": [
    "del dict_a['name']\n",
    "dict_a"
   ]
  },
  {
   "cell_type": "code",
   "execution_count": null,
   "id": "a775a724",
   "metadata": {},
   "outputs": [],
   "source": [
    "# list_a = []\n",
    "# list_a.append()\n",
    "\n",
    "# dict_c = {}\n",
    "# dict_c['키'] = 값"
   ]
  },
  {
   "cell_type": "code",
   "execution_count": 22,
   "id": "9000374e",
   "metadata": {},
   "outputs": [
    {
     "name": "stdout",
     "output_type": "stream",
     "text": [
      "이름 입력 : 홍길동\n",
      "정수 입력 :100\n",
      "이름 입력 : 김철수\n",
      "정수 입력 :90\n",
      "이름 입력 : 개나리\n",
      "정수 입력 :88\n",
      "이름 입력 : 진달래 \n",
      "정수 입력 :99\n",
      "이름 입력 : q\n",
      "입력 종료\n",
      "{'홍길동': 100, '김철수': 90, '개나리': 88, '진달래 ': 99}\n"
     ]
    }
   ],
   "source": [
    "# 키보드에서 이름과 성적을 입력 받아 이름을 키로 성적을 값으로 딕셔너리에 저장\n",
    "# 이름에 'q' 가 입력되면 입력 종류\n",
    "# 저장된 자료를 출력\n",
    "score_dict = {}\n",
    "while True:\n",
    "    name = input(\"이름 입력 : \")\n",
    "    if name == 'q':\n",
    "        print(\"입력 종료\")\n",
    "        break\n",
    "    score = int(input(\"정수 입력 :\"))\n",
    "    score_dict[name] = score\n",
    "\n",
    "print(score_dict)         "
   ]
  },
  {
   "cell_type": "code",
   "execution_count": 25,
   "id": "06dada0c",
   "metadata": {},
   "outputs": [
    {
     "name": "stdout",
     "output_type": "stream",
     "text": [
      "검색하고자 하는 이름 입력 :이영희\n",
      "이영희의 자료는 없습니다\n"
     ]
    }
   ],
   "source": [
    "# 검색하고자 하는 이름을 입력 받아 입력된 자료에 존재하면 이름과 성적 출력\n",
    "# 존재하지 않으면 '존재하지 않는 이름' 이라고 출력\n",
    "search_name = input(\"검색하고자 하는 이름 입력 :\")\n",
    "if search_name in score_dict:\n",
    "    print(\"{}의 성적은 {} 입니다 \".format(search_name, score_dict[search_name]))\n",
    "else:\n",
    "    print(\"{}의 자료는 없습니다\".format(search_name))"
   ]
  },
  {
   "cell_type": "code",
   "execution_count": 27,
   "id": "fb0fa9c4",
   "metadata": {},
   "outputs": [
    {
     "name": "stdout",
     "output_type": "stream",
     "text": [
      "검색하고자 하는 이름 입력 :abcd\n",
      "abcd의 자료는 없습니다\n"
     ]
    }
   ],
   "source": [
    "# 키의 값이 있는지 확인하는 함수 : 딕셔너리.get(키) -> 값을 반환\n",
    "search_name = input(\"검색하고자 하는 이름 입력 :\")\n",
    "value = score_dict.get(search_name)\n",
    "if value:\n",
    "    print(\"{}의 성적은 {} 입니다 \".format(search_name, value))\n",
    "else:\n",
    "    print(\"{}의 자료는 없습니다\".format(search_name))"
   ]
  },
  {
   "cell_type": "code",
   "execution_count": 29,
   "id": "b81435b6",
   "metadata": {},
   "outputs": [
    {
     "name": "stdout",
     "output_type": "stream",
     "text": [
      "홍길동 : 100\n",
      "김철수 : 90\n",
      "개나리 : 88\n",
      "진달래  : 99\n"
     ]
    }
   ],
   "source": [
    "# for 반복문과 같이 사용 : for key in dict:\n",
    "#  for문을 사용하여 딕셔너리의 자료 출력\n",
    "for key in score_dict:\n",
    "    print(f\"{key} : {score_dict[key]}\")\n",
    "#     value = score_dict.get(key)\n",
    "#     print(f\"{key} : {value}\")    "
   ]
  },
  {
   "cell_type": "code",
   "execution_count": 32,
   "id": "16edab88",
   "metadata": {},
   "outputs": [
    {
     "name": "stdout",
     "output_type": "stream",
     "text": [
      "홍길동 : 100\n",
      "김철수 : 90\n",
      "개나리 : 88\n",
      "진달래  : 99\n"
     ]
    },
    {
     "data": {
      "text/plain": [
       "dict_values([100, 90, 88, 99])"
      ]
     },
     "execution_count": 32,
     "metadata": {},
     "output_type": "execute_result"
    }
   ],
   "source": [
    "# 딕셔너리의 키와 값을 동시에 가져오는 함수 : 딕셔너리.items()\n",
    "for key, value in score_dict.items():\n",
    "    print(f\"{key} : {value}\")\n",
    "# score_dict.keys()\n",
    "score_dict.values()"
   ]
  },
  {
   "cell_type": "code",
   "execution_count": 33,
   "id": "8246c3d6",
   "metadata": {},
   "outputs": [
    {
     "name": "stdout",
     "output_type": "stream",
     "text": [
      "이름 입력 :aa\n",
      " 국어 영어 수학 성적 입력 (ex : 90 80 90)90 80 70\n",
      "이름 입력 :bb\n",
      " 국어 영어 수학 성적 입력 (ex : 90 80 90)8 \n",
      "이름 입력 :bb \n",
      " 국어 영어 수학 성적 입력 (ex : 90 80 90)80 99 88\n",
      "이름 입력 :cc\n",
      " 국어 영어 수학 성적 입력 (ex : 90 80 90)77 88 99\n",
      "이름 입력 :q\n",
      "입력 종료 \n"
     ]
    },
    {
     "data": {
      "text/plain": [
       "{'aa': [90, 80, 70], 'bb ': [80, 99, 88], 'cc': [77, 88, 99]}"
      ]
     },
     "execution_count": 33,
     "metadata": {},
     "output_type": "execute_result"
    }
   ],
   "source": [
    "# 이름과 국어, 영어, 수학 성적을 입력 받아 딕셔너리에 저장한 후\n",
    "# srudents -> 이름, 국어, 영어, 수학 성적 , 이름을 키로 \n",
    "students = {}\n",
    "while True:\n",
    "    name = input('이름 입력 :')\n",
    "    if name == 'q':\n",
    "        print(\"입력 종료 \")\n",
    "        break\n",
    "    scores = input(\" 국어 영어 수학 성적 입력 (ex : 90 80 90)\").split()\n",
    "    if len(scores) !=3 :\n",
    "        continue\n",
    "    score_list = []\n",
    "    for score in scores:\n",
    "        score_list.append(int(score))\n",
    "    students[name] = score_list\n",
    "students    "
   ]
  },
  {
   "cell_type": "code",
   "execution_count": null,
   "id": "f95d4748",
   "metadata": {},
   "outputs": [],
   "source": [
    "# 학생별로 성적의 총합, 평균을 출력\n",
    " # 1. 딕셔너리의 자료를 가져와서 총합 평균 출력\n",
    "print(\"{:6}{:6}{:6}\".format('이름','총점','평균'))\n",
    "\n",
    "for key, scores in students.items():\n",
    "    total = 0  # 학생의 총점을 초기화\n",
    "    for score in scores:   # 리스트의 각 점수를 가져 옴\n",
    "        total += score   # 누적 합 구함\n",
    "    print(\"{:6}{:6d}\\t{:6.2f}\".format(key,total, total/len(scores)))"
   ]
  },
  {
   "cell_type": "code",
   "execution_count": 102,
   "id": "841e3f1a",
   "metadata": {},
   "outputs": [
    {
     "name": "stdout",
     "output_type": "stream",
     "text": [
      "dict_values([[90, 80, 70], [80, 99, 88], [77, 88, 99]])\n"
     ]
    }
   ],
   "source": [
    "# 전체 학생의 인원수, 과목별 평균을 구하세요\n",
    "scores = students.values()\n",
    "print(scores)\n",
    "tot_score = [0,0,0]\n",
    "for score in scores:\n",
    "    idx = 0\n",
    "    for sub_score in score:   # 각 과목별 평균을 구하기 위해 \n",
    "        tot_score[idx] += sub_score\n",
    "        idx += 1"
   ]
  },
  {
   "cell_type": "code",
   "execution_count": 101,
   "id": "1b0b92e7",
   "metadata": {},
   "outputs": [
    {
     "data": {
      "text/plain": [
       "{'aa': [90, 80, 70], 'bb ': [80, 99, 88], 'cc': [77, 88, 99]}"
      ]
     },
     "execution_count": 101,
     "metadata": {},
     "output_type": "execute_result"
    }
   ],
   "source": [
    "students\n",
    "tot_score = [0,0,0]\n",
    "for key, scores in students.items():\n",
    "    print(key, scores)\n",
    "    for i, score in enumerate(scores):\n",
    "        tot_score[i] += score\n",
    "\n",
    "for tot in tot_score:\n",
    "    print(tot/3)"
   ]
  },
  {
   "cell_type": "code",
   "execution_count": 68,
   "id": "2bc7f0cd",
   "metadata": {},
   "outputs": [
    {
     "data": {
      "text/plain": [
       "'\\nscores = students.values()\\ntot_score = [0,0,0]\\nfor score in scores:\\n    for idx,sub_score in enumerate(score):   # 인덱스와 값을 반환하는 함수\\n        tot_score[idx] += sub_score\\n'"
      ]
     },
     "execution_count": 68,
     "metadata": {},
     "output_type": "execute_result"
    }
   ],
   "source": [
    "# 전체 학생의 인원수, 과목별 평균을 구하세요\n",
    "scores = students.values()\n",
    "tot_score = [0,0,0]\n",
    "for score in scores:\n",
    "    for idx,sub_score in enumerate(score):   # 인덱스와 값을 반환하는 함수\n",
    "        tot_score[idx] += sub_score      "
   ]
  },
  {
   "cell_type": "code",
   "execution_count": 100,
   "id": "fe319ac3",
   "metadata": {},
   "outputs": [
    {
     "name": "stdout",
     "output_type": "stream",
     "text": [
      "0 10 10\n",
      "1 20 20\n",
      "2 30 30\n",
      "3 40 40\n",
      "4 50 50\n"
     ]
    }
   ],
   "source": [
    "a = [10,20,30,40,50]\n",
    "for i, score in enumerate(a):\n",
    "    print(i, score, a[i])"
   ]
  },
  {
   "cell_type": "code",
   "execution_count": 67,
   "id": "9df2f99a",
   "metadata": {},
   "outputs": [
    {
     "name": "stdout",
     "output_type": "stream",
     "text": [
      "학생수 : 3\n",
      "국어 : 82.33\t영어 : 89.00\t수학 : 85.67\t"
     ]
    }
   ],
   "source": [
    "# 각 과목별 평균 \n",
    "print(\"학생수 : {}\".format(len(students))) # 전체 학생수 : len(딕셔너리)\n",
    "titles = ['국어', '영어', '수학']\n",
    "for idx,tot in enumerate(tot_score):\n",
    "    print(\"{} : {:3.2f}\".format(titles[idx], tot/3), end='\\t')"
   ]
  },
  {
   "cell_type": "code",
   "execution_count": 21,
   "id": "e49ab957",
   "metadata": {},
   "outputs": [
    {
     "name": "stdout",
     "output_type": "stream",
     "text": [
      "True\n",
      "False\n"
     ]
    }
   ],
   "source": [
    "# 키가 존재하는지 확인 : key in 딕셔너리 -> 딕셔너리의 키에 key 가 있는지 확인\n",
    "print('a' in  score_dict) #  True \n",
    "print('name' in score_dict) #  False"
   ]
  },
  {
   "cell_type": "code",
   "execution_count": 11,
   "id": "e94478cc",
   "metadata": {},
   "outputs": [
    {
     "name": "stdout",
     "output_type": "stream",
     "text": [
      "[1, 2, 3, 4, 5, 6, 7, 8, 9]\n",
      "[[1, 4, 7], [2, 5, 8], [3, 6, 9]]\n"
     ]
    }
   ],
   "source": [
    "# 215p 4번\n",
    "nums = list(range(1,10))\n",
    "print(nums)\n",
    "# [[1,4,7],[2,5,8], [3,6,9]]\n",
    "output = [[],[],[]]\n",
    "for num in nums:\n",
    "    output[num %3 -1].append(num)\n",
    "print(output)    "
   ]
  },
  {
   "cell_type": "code",
   "execution_count": 19,
   "id": "8b5a94b8",
   "metadata": {},
   "outputs": [
    {
     "name": "stdout",
     "output_type": "stream",
     "text": [
      "[1, 2, 3, 4, 5, 6, 7, 8, 9]\n",
      "i = 0, j = 1\n",
      "i = 2, j = 3\n",
      "i = 4, j = 5\n",
      "[1, 4, 3, 16, 5, 36, 7, 8, 9]\n"
     ]
    }
   ],
   "source": [
    "# 259p 5번\n",
    "nums = list(range(1,10)) \n",
    "print(nums)\n",
    "for i in range(0, len(nums) // 2 + 1, 2):  # range(0,4)  -> 0, 1, 2, 3\n",
    "    j = nums[i]\n",
    "    print(f\"i = {i}, j = {j}\")    \n",
    "    nums[j] = nums[j] ** 2\n",
    "    \n",
    "print(nums)"
   ]
  },
  {
   "cell_type": "code",
   "execution_count": 71,
   "id": "d502e10c",
   "metadata": {},
   "outputs": [
    {
     "name": "stdout",
     "output_type": "stream",
     "text": [
      "=== 2 단 === \n",
      "2 * 1 =  2\t2 * 2 =  4\t2 * 3 =  6\n",
      "2 * 4 =  8\t2 * 5 = 10\t2 * 6 = 12\n",
      "2 * 7 = 14\t2 * 8 = 16\t2 * 9 = 18\n",
      "\n",
      "=== 3 단 === \n",
      "3 * 1 =  3\t3 * 2 =  6\t3 * 3 =  9\n",
      "3 * 4 = 12\t3 * 5 = 15\t3 * 6 = 18\n",
      "3 * 7 = 21\t3 * 8 = 24\t3 * 9 = 27\n",
      "\n",
      "=== 4 단 === \n",
      "4 * 1 =  4\t4 * 2 =  8\t4 * 3 = 12\n",
      "4 * 4 = 16\t4 * 5 = 20\t4 * 6 = 24\n",
      "4 * 7 = 28\t4 * 8 = 32\t4 * 9 = 36\n",
      "\n",
      "=== 5 단 === \n",
      "5 * 1 =  5\t5 * 2 = 10\t5 * 3 = 15\n",
      "5 * 4 = 20\t5 * 5 = 25\t5 * 6 = 30\n",
      "5 * 7 = 35\t5 * 8 = 40\t5 * 9 = 45\n",
      "\n",
      "=== 6 단 === \n",
      "6 * 1 =  6\t6 * 2 = 12\t6 * 3 = 18\n",
      "6 * 4 = 24\t6 * 5 = 30\t6 * 6 = 36\n",
      "6 * 7 = 42\t6 * 8 = 48\t6 * 9 = 54\n",
      "\n",
      "=== 7 단 === \n",
      "7 * 1 =  7\t7 * 2 = 14\t7 * 3 = 21\n",
      "7 * 4 = 28\t7 * 5 = 35\t7 * 6 = 42\n",
      "7 * 7 = 49\t7 * 8 = 56\t7 * 9 = 63\n",
      "\n",
      "=== 8 단 === \n",
      "8 * 1 =  8\t8 * 2 = 16\t8 * 3 = 24\n",
      "8 * 4 = 32\t8 * 5 = 40\t8 * 6 = 48\n",
      "8 * 7 = 56\t8 * 8 = 64\t8 * 9 = 72\n",
      "\n",
      "=== 9 단 === \n",
      "9 * 1 =  9\t9 * 2 = 18\t9 * 3 = 27\n",
      "9 * 4 = 36\t9 * 5 = 45\t9 * 6 = 54\n",
      "9 * 7 = 63\t9 * 8 = 72\t9 * 9 = 81\n",
      "\n"
     ]
    }
   ],
   "source": [
    "# 구구단을 range() 함수를 사용하여 구현\n",
    "for dan in range(2,10):\n",
    "    print(f\"=== {dan} 단 === \")\n",
    "    cnt = 1\n",
    "    for num in range(1,10):\n",
    "        if cnt < 3:\n",
    "            print(\"{} * {} = {:2d}\".format(dan, num, dan * num),end='\\t')\n",
    "            cnt += 1\n",
    "        else:\n",
    "            cnt = 1\n",
    "            print(\"{} * {} = {:2d}\".format(dan, num, dan * num))            \n",
    "    print()"
   ]
  },
  {
   "cell_type": "code",
   "execution_count": 94,
   "id": "a3389180",
   "metadata": {},
   "outputs": [
    {
     "name": "stdout",
     "output_type": "stream",
     "text": [
      "0\t5\t10\n",
      "15\t20\t25\n",
      "30\t35\t40\n",
      "45\t50\t55\n",
      "60\t65\t70\n",
      "75\t80\t85\n",
      "90\t95\t100\n",
      "\n",
      "\n",
      "0\t5\t10\t15\t20\t25\t30\t35\t40\t45\n",
      "50\t55\t60\t65\t70\t75\t80\t85\t90\t95\n",
      "100\t"
     ]
    }
   ],
   "source": [
    "# 0부터 100 까지의 수 중에서 5의 배수만 출력\n",
    "# range() 함수 사용\n",
    "line_cnt = 0\n",
    "for i in range(0,101, 5):\n",
    "    line_cnt += 1\n",
    "    if line_cnt % 10 == 0:   # 한 라인에 10개씩 \n",
    "        print(i)\n",
    "    else:\n",
    "        print(i,end='\\t')\n",
    "print()    \n",
    "print()   \n",
    "for line_cnt, i in enumerate(list(range(0,101, 5))):\n",
    "    if (line_cnt+1) % 10 == 0:\n",
    "        print(i)\n",
    "    else:\n",
    "        print(i,end='\\t')"
   ]
  },
  {
   "cell_type": "code",
   "execution_count": 92,
   "id": "3436e77f",
   "metadata": {},
   "outputs": [
    {
     "name": "stdout",
     "output_type": "stream",
     "text": [
      "0번째 값 : 3 \t1번째 값 : 4 \n",
      "2번째 값 : 1 \t3번째 값 : 5 \n",
      "4번째 값 : 7 \t\n",
      "enumerate 함수를 활용하여 위치 확인\n",
      "0번째 값 : 3 \n",
      "1번째 값 : 4 \n",
      "2번째 값 : 1 \n",
      "3번째 값 : 5 \n",
      "4번째 값 : 7 \n"
     ]
    }
   ],
   "source": [
    "# 원 소스\n",
    "num_list = [3,4,1,5,7]\n",
    "for i in range(len(num_list)):\n",
    "    print(\"{}번째 값 : {} \".format(i, num_list[i]))\n",
    "print(\"enumerate 함수를 활용하여 위치 확인\")\n",
    "for i, value in enumerate(num_list):\n",
    "    print(\"{}번째 값 : {} \".format(i, value))"
   ]
  },
  {
   "cell_type": "code",
   "execution_count": null,
   "id": "4992a9fa",
   "metadata": {},
   "outputs": [],
   "source": [
    "# 추가된 소스 : 한 라인에 두 개씩 출력 \n",
    "num_list = [3,4,1,5,7]\n",
    "for i in range(len(num_list)):\n",
    "    if (i+1) % 2  == 0 : # 한 라인에 두 개씩 출력하기 위해 인덱스 나머지값 계산\n",
    "        print(\"{}번째 값 : {} \".format(i, num_list[i]))\n",
    "    else:\n",
    "        print(\"{}번째 값 : {} \".format(i, num_list[i]), end='\\t')        \n",
    "print(\"\\nenumerate 함수를 활용하여 위치 확인\")\n",
    "for i, value in enumerate(num_list):\n",
    "    print(\"{}번째 값 : {} \".format(i, value))"
   ]
  },
  {
   "cell_type": "code",
   "execution_count": 108,
   "id": "abed4232",
   "metadata": {},
   "outputs": [
    {
     "name": "stdout",
     "output_type": "stream",
     "text": [
      "dict_values([[90, 80, 70], [80, 99, 88], [77, 88, 99]])\n",
      "[90, 80, 70]\n",
      "0:90\n",
      "1:80\n",
      "2:70\n",
      "[80, 99, 88]\n",
      "0:170\n",
      "1:179\n",
      "2:158\n",
      "[77, 88, 99]\n",
      "0:247\n",
      "1:267\n",
      "2:257\n",
      "[90, 80, 70]\n",
      "0:90\n",
      "1:80\n",
      "2:70\n",
      "[80, 99, 88]\n",
      "0:170\n",
      "1:179\n",
      "2:158\n",
      "[77, 88, 99]\n",
      "0:247\n",
      "1:267\n",
      "2:257\n"
     ]
    }
   ],
   "source": [
    "dict_a = {\n",
    "    'aa': [90, 80, 70], \n",
    "    'bb ': [80, 99, 88], \n",
    "    'cc': [77, 88, 99]}\n",
    "print(dict_a.values())  # [[90, 80, 70], [80, 99, 88],[77, 88, 99]]\n",
    "\n",
    "tot_score = [0, 0, 0]\n",
    "for score in dict_a.values():\n",
    "    print(score)\n",
    "    idx = 0\n",
    "    for i in score:\n",
    "        tot_score[idx] += i\n",
    "        print(f\"{idx}:{tot_score[idx]}\")\n",
    "        idx += 1\n",
    "        \n",
    "# idx 대신 enumerate() 함수를 사용\n",
    "tot_score = [0, 0, 0]\n",
    "for score in dict_a.values():\n",
    "    print(score)\n",
    "    for idx, i in enumerate(score):\n",
    "        tot_score[idx] += i\n",
    "        print(f\"{idx}:{tot_score[idx]}\")      "
   ]
  },
  {
   "cell_type": "code",
   "execution_count": null,
   "id": "d4fe000e",
   "metadata": {},
   "outputs": [],
   "source": [
    "# 1.키보드에서 이름을 입력 받아 'q'가 입력되면 입력 종료\n",
    "#  아니면 국어 영어 점수를 입력받아 저장\n",
    "#   입력 받은 점수의 갯수가 2가 아니거나 숫자가 아니면 다시 입력\n",
    "# 2. 입력 종료 후 검색하고자 하는 이름을 입력 받아 \n",
    "#   검색된 이름의 성적과, 총점, 평균 출력\n",
    "# 3. 총 입력된 학생의 인원수 출력\n",
    "# 4. 전체 학생의 성적의 합계를 기존의 자료에 추가\n",
    "# 5. 최고점을 받은 학생의 정보 출력"
   ]
  },
  {
   "cell_type": "code",
   "execution_count": 131,
   "id": "36527603",
   "metadata": {},
   "outputs": [
    {
     "name": "stdout",
     "output_type": "stream",
     "text": [
      "이름 입력 :aa\n",
      " 국어 영어 성적 입력 (ex : 90 80 90)11 22\n",
      "이름 입력 :bb\n",
      " 국어 영어 성적 입력 (ex : 90 80 90)44 55\n",
      "이름 입력 :cc\n",
      " 국어 영어 성적 입력 (ex : 90 80 90)66 55\n",
      "이름 입력 :dd\n",
      " 국어 영어 성적 입력 (ex : 90 80 90)77 88\n",
      "이름 입력 :ee\n",
      " 국어 영어 성적 입력 (ex : 90 80 90)99 33\n",
      "이름 입력 :q\n",
      "입력 종료 \n"
     ]
    },
    {
     "data": {
      "text/plain": [
       "{'aa': [11, 22],\n",
       " 'bb': [44, 55],\n",
       " 'cc': [66, 55],\n",
       " 'dd': [77, 88],\n",
       " 'ee': [99, 33]}"
      ]
     },
     "execution_count": 131,
     "metadata": {},
     "output_type": "execute_result"
    }
   ],
   "source": [
    "# 1.키보드에서 이름을 입력 받아 'q'가 입력되면 입력 종료\n",
    "#  아니면 국어 영어 점수를 입력받아 저장\n",
    "#   입력 받은 점수의 갯수가 2가 아니거나 숫자가 아니면 다시 입력\n",
    "students = {}\n",
    "while True:\n",
    "    name = input('이름 입력 :')\n",
    "    if name == 'q':\n",
    "        print(\"입력 종료 \")\n",
    "        break\n",
    "    \n",
    "    if name in students:\n",
    "        print(\"기 입력된 자료임 \")\n",
    "        continue\n",
    "        \n",
    "    scores = input(\" 국어 영어 성적 입력 (ex : 90 80 90)\").split()\n",
    "    score_list = []    \n",
    "    for score in scores:\n",
    "        if score.isnumeric():   # 입력한 자료가 숫자이면 정수로 형변환\n",
    "            score_list.append(int(score))\n",
    "        else:    #  입력한 자료가 정수가 아니면 변환 종료\n",
    "            break\n",
    "            \n",
    "    if len(score_list) != 2 :  # 변환된 자료의 수가 2가 아니면 다시 입력\n",
    "        continue\n",
    "        \n",
    "    students[name] = score_list  # 정상 입력된 자료는 딕셔너리에 추가\n",
    "\n",
    "students    "
   ]
  },
  {
   "cell_type": "code",
   "execution_count": 135,
   "id": "567a9560",
   "metadata": {},
   "outputs": [
    {
     "data": {
      "text/plain": [
       "18"
      ]
     },
     "execution_count": 135,
     "metadata": {},
     "output_type": "execute_result"
    }
   ],
   "source": [
    "a = [3,4,5,6]\n",
    "sum(a)"
   ]
  },
  {
   "cell_type": "code",
   "execution_count": 132,
   "id": "65c63687",
   "metadata": {},
   "outputs": [
    {
     "name": "stdout",
     "output_type": "stream",
     "text": [
      "검색 이름 : aa\n",
      "aa : 11\t22\t총점 : 33, 평균 : 11.00\n",
      "\n"
     ]
    }
   ],
   "source": [
    "# 2 검색하고자 하는 이름 입력\n",
    "s_name = input(\"검색 이름 : \")\n",
    "if s_name in students:\n",
    "    print(f'{s_name} ', end=': ')\n",
    "    for score in students[s_name]:   # 검색된 이름의 값을 가져옴 -> 리스트\n",
    "        print(f'{score}',end='\\t')\n",
    "    print(\"총점 : {}, 평균 : {:3.2f}\".format(sum(students[s_name]),\n",
    "                                        sum(students[s_name])/3))\n",
    "else:\n",
    "    print(\"자료 없음\")\n",
    "print()"
   ]
  },
  {
   "cell_type": "code",
   "execution_count": 133,
   "id": "75eb0f4c",
   "metadata": {},
   "outputs": [
    {
     "name": "stdout",
     "output_type": "stream",
     "text": [
      "총 인원수 : 5\n",
      "{'aa': [11, 22, 33], 'bb': [44, 55, 99], 'cc': [66, 55, 121], 'dd': [77, 88, 165], 'ee': [99, 33, 132]}\n"
     ]
    }
   ],
   "source": [
    "# 3. 총 입력된 학생의 인원수 출력\n",
    "print(\"총 인원수 : {}\".format(len(students)))\n",
    "# 4. 전체 학생의 성적의 합계를 기존의 자료에 추가\n",
    "for name, scores in students.items():\n",
    "    students[name].append(sum(scores))\n",
    "print(students)    "
   ]
  },
  {
   "cell_type": "code",
   "execution_count": 134,
   "id": "b6618bdd",
   "metadata": {},
   "outputs": [
    {
     "name": "stdout",
     "output_type": "stream",
     "text": [
      "최고점 학생 : dd, 최고점 : 165\n"
     ]
    }
   ],
   "source": [
    "# 5. 최고점을 받은 학생의 정보 출력\n",
    "max_score = 0\n",
    "max_name = ''\n",
    "for name, scores in students.items():\n",
    "    if max_score < scores[2]:\n",
    "        max_score = scores[2]\n",
    "        max_name = name\n",
    "\n",
    "print(\"최고점 학생 : {}, 최고점 : {}\".format(max_name, max_score))"
   ]
  },
  {
   "cell_type": "code",
   "execution_count": null,
   "id": "b6f58bde",
   "metadata": {},
   "outputs": [],
   "source": [
    "for i in range(5):\n",
    "    print(i)\n",
    "\n",
    "print()\n",
    "for i in reversed(range(5)):\n",
    "    print(i)"
   ]
  },
  {
   "cell_type": "code",
   "execution_count": 140,
   "id": "f90dafbd",
   "metadata": {},
   "outputs": [
    {
     "name": "stdout",
     "output_type": "stream",
     "text": [
      "\n",
      "5\n",
      "4\n",
      "3\n",
      "2\n",
      "1\n",
      "-------------\n",
      "5\n",
      "4\n",
      "3\n",
      "2\n",
      "1\n",
      "-------------\n"
     ]
    }
   ],
   "source": [
    "print()\n",
    "list_a = [1,2,3,4,5]\n",
    "for i in reversed(list_a):\n",
    "    print(i)\n",
    "print(\"-------------\")   \n",
    "list_r = reversed(list_a)\n",
    "for i in list_r:\n",
    "    print(i)    \n",
    "print(\"-------------\")  \n",
    "for i in list_r:\n",
    "    print(i)      "
   ]
  },
  {
   "cell_type": "code",
   "execution_count": 141,
   "id": "080a787e",
   "metadata": {},
   "outputs": [
    {
     "name": "stdout",
     "output_type": "stream",
     "text": [
      "55\n"
     ]
    }
   ],
   "source": [
    "# while 표현식 :  -> 표현식이 True이면 실행\n",
    "i = 1\n",
    "total = 0\n",
    "while i < 11:\n",
    "    total += i\n",
    "    i +=1\n",
    "print(total)"
   ]
  },
  {
   "cell_type": "code",
   "execution_count": 142,
   "id": "449b76af",
   "metadata": {},
   "outputs": [
    {
     "name": "stdout",
     "output_type": "stream",
     "text": [
      "[1, 1]\n"
     ]
    }
   ],
   "source": [
    "list_test = [1, 2, 1, 2]\n",
    "value = 2\n",
    "# list_test의 값에서 2를 제거\n",
    "while value in list_test:\n",
    "    list_test.remove(value)\n",
    "print(list_test)"
   ]
  },
  {
   "cell_type": "code",
   "execution_count": 161,
   "id": "3fbe255a",
   "metadata": {},
   "outputs": [],
   "source": [
    "list_news = ['q', '!', 'abd', 'def', '!']"
   ]
  },
  {
   "cell_type": "code",
   "execution_count": 162,
   "id": "626931bc",
   "metadata": {},
   "outputs": [
    {
     "data": {
      "text/plain": [
       "['q', 'abd', 'def']"
      ]
     },
     "execution_count": 162,
     "metadata": {},
     "output_type": "execute_result"
    }
   ],
   "source": [
    "# list_news 에서 숫자와 '!을 제거\n",
    "while '!' in list_news:\n",
    "    list_news.remove('!')\n",
    "list_news"
   ]
  },
  {
   "cell_type": "code",
   "execution_count": 167,
   "id": "096d7714",
   "metadata": {},
   "outputs": [],
   "source": [
    "remove_str = ['1','2','3','4']\n",
    "for value in remove_str:\n",
    "    while value in list_str:\n",
    "        list_str.remove(value)"
   ]
  },
  {
   "cell_type": "code",
   "execution_count": 166,
   "id": "d91fd0bb",
   "metadata": {},
   "outputs": [],
   "source": [
    "list_str = list('''\n",
    "난해 기준 대전광역시 위원회 224개, \n",
    "위원수 3,178명과 충남도 211개 위원회, 3,242명입니''')"
   ]
  },
  {
   "cell_type": "code",
   "execution_count": 169,
   "id": "b136722f",
   "metadata": {},
   "outputs": [
    {
     "data": {
      "text/plain": [
       "'\\n난해 기준 대전광역시 위원회 개, 위원수 ,78명과 충남도 개 위원회, ,명입니'"
      ]
     },
     "execution_count": 169,
     "metadata": {},
     "output_type": "execute_result"
    }
   ],
   "source": [
    "list_str1 = ''\n",
    "for char in list_str:\n",
    "    list_str1 += char\n",
    "list_str1    "
   ]
  },
  {
   "cell_type": "code",
   "execution_count": null,
   "id": "8650c6cd",
   "metadata": {},
   "outputs": [],
   "source": [
    "# python 의 데이터 타입 : 문자, 숫자, 불리언\n",
    "# 자료의 집합 : list -> [, ...], dictionary -> {키:값, ...}\n",
    "# list[위치 인덱스],  dict[키]\n",
    "# 자료 추가 -> list.append(요소), dict[키] = 값\n",
    "# 자료 수정 -> list[위치인덱스] = 값,  dict[키] = 값\n",
    "# 자료 삭제 -> list.pop(), list.remove(값), del list[위치 인덱스]\n",
    "#    del dict[키]\n",
    "\n",
    "# 반복문(for)과 같이 사용\n",
    "# for value in list:  -> 리스트의 각 요소가 value로 저장됨\n",
    "# for key in dict :  -> 딕셔너리의 키가 key로 저장됨\n",
    "\n",
    "# for idx, value in enumerate(리스트) -> 위치(idx)와 값(value)이 저장됨\n",
    "# for key, value in dict.items()  -> 키(key)와 값(value)이 저장됨\n",
    "\n",
    "# dict.get(키) -> 값이 반환됨\n",
    "\n",
    "# while True 조건인 경우 : 실행\n",
    "\n",
    "# 반복문 탈출 키워드 -> break:반복문 탈출,  continue:반복문 조건식으로 이동\n"
   ]
  },
  {
   "cell_type": "code",
   "execution_count": 170,
   "id": "884dfcfb",
   "metadata": {},
   "outputs": [
    {
     "name": "stdout",
     "output_type": "stream",
     "text": [
      "0부터 10까지의 합은 55\n"
     ]
    }
   ],
   "source": [
    "# 반복문에서 누적합 등을 구하고자 할 경우\n",
    "# 초기화는 반복문 시작 전에\n",
    "tot = 0\n",
    "for i in range(11):\n",
    "    tot += i\n",
    "print(\"0부터 10까지의 합은 {}\".format(tot))"
   ]
  },
  {
   "cell_type": "code",
   "execution_count": 171,
   "id": "024c18c6",
   "metadata": {},
   "outputs": [
    {
     "name": "stdout",
     "output_type": "stream",
     "text": [
      "자료 입력 : q 또는 Q를 입력시 종료a\n",
      "자료 입력 : q 또는 Q를 입력시 종료v\n",
      "자료 입력 : q 또는 Q를 입력시 종료b\n",
      "자료 입력 : q 또는 Q를 입력시 종료Q\n"
     ]
    }
   ],
   "source": [
    "while True:\n",
    "    input_char = input(\"자료 입력 : q 또는 Q를 입력시 종료\")\n",
    "    if input_char in ['q', 'Q']:\n",
    "        break\n",
    "    if input_char == 'q' or input_char == 'Q'"
   ]
  },
  {
   "cell_type": "code",
   "execution_count": 177,
   "id": "df62f72f",
   "metadata": {},
   "outputs": [
    {
     "name": "stdout",
     "output_type": "stream",
     "text": [
      "3초동안 13112014번 실행\n"
     ]
    }
   ],
   "source": [
    "# time 모듈과 반복문 사용하기\n",
    "import time\n",
    "\n",
    "cnt = 0\n",
    "t_time = time.time() + 3\n",
    "while time.time() < t_time:\n",
    "    cnt += 1\n",
    "print(\"3초동안 {}번 실행\".format(cnt))"
   ]
  },
  {
   "cell_type": "markdown",
   "id": "87320d06",
   "metadata": {},
   "source": [
    "## chap4.4 문자열 리스트, 딕셔너리와 관련된 기본함수"
   ]
  },
  {
   "cell_type": "code",
   "execution_count": 179,
   "id": "82fedd88",
   "metadata": {},
   "outputs": [
    {
     "name": "stdout",
     "output_type": "stream",
     "text": [
      "10\n",
      "40\n",
      "80\n"
     ]
    }
   ],
   "source": [
    "# min(), max(), sum()\n",
    "list_a = [10,30,40]\n",
    "print(min(list_a))\n",
    "print(max(list_a))\n",
    "print(sum(list_a))"
   ]
  },
  {
   "cell_type": "code",
   "execution_count": 180,
   "id": "70a4e430",
   "metadata": {},
   "outputs": [
    {
     "name": "stdout",
     "output_type": "stream",
     "text": [
      "abcd\n",
      "test\n"
     ]
    }
   ],
   "source": [
    "list_str = ['abcd', 'test', 'ke']\n",
    "print(min(list_str))\n",
    "print(max(list_str))\n",
    "# print(sum(list_a))"
   ]
  },
  {
   "cell_type": "code",
   "execution_count": null,
   "id": "3ec8aaaf",
   "metadata": {},
   "outputs": [],
   "source": [
    "# 반복문을 사용한 리스트 생성\n",
    "array = []\n",
    "# 반복문을 사용하여 리스트 데이터 추가\n",
    "for i in range(0,20,2):\n",
    "    array.append(i*i)\n",
    "print(array)"
   ]
  },
  {
   "cell_type": "code",
   "execution_count": 184,
   "id": "733c11e0",
   "metadata": {},
   "outputs": [
    {
     "data": {
      "text/plain": [
       "[0, 4, 16, 36, 64, 100, 144, 196, 256, 324]"
      ]
     },
     "execution_count": 184,
     "metadata": {},
     "output_type": "execute_result"
    }
   ],
   "source": [
    "# 리스트 내포 : 리스트 선언안에 for문장 사용\n",
    "# [ 표현식 for 반복자 in 반복할 수 있는 자료 ]\n",
    "array_1 = [ i*i for i in range(0,20,2) ]\n",
    "array_1"
   ]
  },
  {
   "cell_type": "code",
   "execution_count": 186,
   "id": "2c805109",
   "metadata": {},
   "outputs": [
    {
     "data": {
      "text/plain": [
       "[0, 4, 16, 36, 64, 100, 144, 196, 256, 324]"
      ]
     },
     "execution_count": 186,
     "metadata": {},
     "output_type": "execute_result"
    }
   ],
   "source": [
    "# 리스트 내포 : 리스트 선언안에 for문장 사용, 조건식과 같이 사용\n",
    "# [ 표현식 for 반복자 in 반복할 수 있는 자료  if 조건문 ]\n",
    "array_1 = [ i*i \n",
    "           for i in range(0,20)  \n",
    "           if i %2 == 0]\n",
    "array_1"
   ]
  },
  {
   "cell_type": "code",
   "execution_count": 190,
   "id": "eda2fb47",
   "metadata": {},
   "outputs": [
    {
     "name": "stdout",
     "output_type": "stream",
     "text": [
      "정수 입력2222\n",
      "입력한 문자열은 2222입니다\n",
      "2222는 짝수입니다\n"
     ]
    }
   ],
   "source": [
    "# 문장이 길어질 때 () 하나의 문장으로 인식\n",
    "number = int(input(\"정수 입력\"))\n",
    "if number % 2 == 0:\n",
    "    print(\"입력한 문자열은 {}입니다\\n\"\n",
    "          \"{}는 짝수입니다\"\n",
    "          .format(number, number))"
   ]
  },
  {
   "cell_type": "code",
   "execution_count": 197,
   "id": "23b73f45",
   "metadata": {},
   "outputs": [
    {
     "name": "stdout",
     "output_type": "stream",
     "text": [
      "['abcd', 'test', 'ke']\n"
     ]
    }
   ],
   "source": [
    "# 문자열.split() => space로 분리\n",
    "# 리스트를 하나의 문자열로 전환\n",
    "print(list_str)\n",
    "\n",
    "# 리스트를 하나의 문자열로 연결 문자를 '-'\n",
    "join_str = '::'.join(list_str)"
   ]
  },
  {
   "cell_type": "code",
   "execution_count": 198,
   "id": "03606caf",
   "metadata": {},
   "outputs": [
    {
     "data": {
      "text/plain": [
       "['abcd', 'test', 'ke']"
      ]
     },
     "execution_count": 198,
     "metadata": {},
     "output_type": "execute_result"
    }
   ],
   "source": [
    "split_list = join_str.split('::')\n",
    "split_list"
   ]
  }
 ],
 "metadata": {
  "kernelspec": {
   "display_name": "Python 3 (ipykernel)",
   "language": "python",
   "name": "python3"
  },
  "language_info": {
   "codemirror_mode": {
    "name": "ipython",
    "version": 3
   },
   "file_extension": ".py",
   "mimetype": "text/x-python",
   "name": "python",
   "nbconvert_exporter": "python",
   "pygments_lexer": "ipython3",
   "version": "3.9.12"
  }
 },
 "nbformat": 4,
 "nbformat_minor": 5
}
