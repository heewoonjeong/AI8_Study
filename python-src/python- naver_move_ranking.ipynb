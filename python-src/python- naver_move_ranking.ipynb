{
 "cells": [
  {
   "cell_type": "code",
   "execution_count": 3,
   "id": "1b690e42",
   "metadata": {},
   "outputs": [],
   "source": [
    "# 네이버 영화에서 현재 상영중인 영화의 순위 제목 평점을 출력 \n",
    "from urllib import request\n",
    "from bs4 import BeautifulSoup \n",
    "\n",
    "open_url = 'https://movie.naver.com/movie/sdb/rank/rmovie.naver?sel=cur&date=20220627'\n",
    "target = request.urlopen(open_url)\n",
    "\n",
    "soup = BeautifulSoup(target) "
   ]
  },
  {
   "cell_type": "code",
   "execution_count": 13,
   "id": "4c959b98",
   "metadata": {},
   "outputs": [
    {
     "name": "stdout",
     "output_type": "stream",
     "text": [
      "탑건: 매버릭\n",
      "범죄도시2\n",
      "로마의 휴일\n",
      "피아니스트의 전설\n",
      "극장판 주술회전 0\n",
      "바람과 함께 사라지다\n",
      "러빙 빈센트\n",
      "러브레터\n",
      "코다\n",
      "카시오페아\n",
      "전투왕\n",
      "올드보이\n",
      "이별의 아침에 약속의 꽃을 장식하자\n",
      "디어 헌터\n",
      "중경삼림\n",
      "천로역정: 천국을 찾아서\n",
      "화양연화\n",
      "펄프 픽션\n",
      "아메리칸 셰프\n",
      "김광석\n",
      "걸어도 걸어도\n",
      "기생충\n",
      "드라이브 마이 카\n",
      "신은 죽지 않았다 3: 어둠 속의 빛\n",
      "어나더 라운드\n",
      "우연과 상상\n",
      "릴리 슈슈의 모든 것\n",
      "하나와 앨리스\n",
      "애프터 양\n",
      "원더풀 라이프\n",
      "밀양\n",
      "버즈 라이트이어\n",
      "고스트 스토리\n",
      "디어 에반 핸슨\n",
      "립반윙클의 신부\n",
      "그린 나이트\n",
      "닥터 스트레인지: 대혼돈의 멀티버스\n",
      "아사코\n",
      "그대가 조국\n",
      "불도저에 탄 소녀\n",
      "마녀(魔女) Part2. The Other One\n",
      "박쥐\n",
      "쥬라기 월드: 도미니언\n",
      "대통령의 7시간\n",
      "브로커\n",
      "9.81\n",
      "9.47\n",
      "9.26\n",
      "9.25\n",
      "9.25\n",
      "9.25\n",
      "9.22\n",
      "9.13\n",
      "9.13\n",
      "9.11\n",
      "9.10\n",
      "9.04\n",
      "8.97\n",
      "8.94\n",
      "8.90\n",
      "8.86\n",
      "8.81\n",
      "8.76\n",
      "8.75\n",
      "8.67\n",
      "8.63\n",
      "8.49\n",
      "8.41\n",
      "8.32\n",
      "8.31\n",
      "8.16\n",
      "8.12\n",
      "8.11\n",
      "8.04\n",
      "8.00\n",
      "7.95\n",
      "7.71\n",
      "7.63\n",
      "7.47\n",
      "7.38\n",
      "7.31\n",
      "7.30\n",
      "7.28\n",
      "7.12\n",
      "7.11\n",
      "6.65\n",
      "6.32\n",
      "6.24\n",
      "5.99\n",
      "5.52\n"
     ]
    }
   ],
   "source": [
    "# <tr> 태크 검색\n",
    "movie_title = []\n",
    "movie_point = []\n",
    "for line in soup.find_all('tr') :# 리스트의 자료를 한개씩 가져와서 \n",
    "    title = line.find('div',class_='tit5') # <div class='tit5'> 검색\n",
    "    if title:\n",
    "        movie_title.append(title.get_text().strip('\\n'))\n",
    "#         print(title.get_text()) \n",
    "    point = line.find('td', class_='point')\n",
    "    if point:\n",
    "        movie_point.append(point.get_text())\n",
    "#         print(point.get_text())\n",
    "\n",
    "for rank, (title,point) in movie_title:\n",
    "    print(title)\n",
    "for point in movie_point:\n",
    "    print(point)"
   ]
  },
  {
   "cell_type": "code",
   "execution_count": 18,
   "id": "499ee4e8",
   "metadata": {},
   "outputs": [],
   "source": [
    "html_doc = \"\"\"<html><head><title>The Dormouse's story</title></head>\n",
    "<body>\n",
    "<p class=\"title\"><b>The Dormouse's story</b></p>\n",
    "\n",
    "<p class=\"story\">Once upon a time there were three little sisters; and their names were\n",
    "<a href=\"http://example.com/elsie\" class=\"sister\" id=\"link1\">Elsie</a>,\n",
    "<a href=\"http://example.com/lacie\" class=\"sister\" id=\"link2\">Lacie</a> and\n",
    "<a href=\"http://example.com/tillie\" class=\"sister\" id=\"link3\">Tillie</a>;\n",
    "and they lived at the bottom of a well.</p>\n",
    "\n",
    "<p class=\"story\">...</p>\n",
    "\"\"\""
   ]
  },
  {
   "cell_type": "code",
   "execution_count": 19,
   "id": "48fb7a16",
   "metadata": {},
   "outputs": [],
   "source": [
    "soup1 = BeautifulSoup(html_doc, 'html.parser')"
   ]
  },
  {
   "cell_type": "code",
   "execution_count": 20,
   "id": "7cb70f94",
   "metadata": {},
   "outputs": [
    {
     "data": {
      "text/plain": [
       "<title>The Dormouse's story</title>"
      ]
     },
     "execution_count": 20,
     "metadata": {},
     "output_type": "execute_result"
    }
   ],
   "source": [
    "soup1.title"
   ]
  },
  {
   "cell_type": "code",
   "execution_count": 21,
   "id": "4167625a",
   "metadata": {},
   "outputs": [
    {
     "name": "stdout",
     "output_type": "stream",
     "text": [
      "<title>랭킹 : 네이버 영화</title>\n",
      "title\n",
      "랭킹 : 네이버 영화\n"
     ]
    }
   ],
   "source": [
    "print(soup.title)\n",
    "print(soup.title.name)\n",
    "print(soup.title.string)"
   ]
  },
  {
   "cell_type": "code",
   "execution_count": null,
   "id": "deac2784",
   "metadata": {},
   "outputs": [],
   "source": []
  }
 ],
 "metadata": {
  "kernelspec": {
   "display_name": "Python 3 (ipykernel)",
   "language": "python",
   "name": "python3"
  },
  "language_info": {
   "codemirror_mode": {
    "name": "ipython",
    "version": 3
   },
   "file_extension": ".py",
   "mimetype": "text/x-python",
   "name": "python",
   "nbconvert_exporter": "python",
   "pygments_lexer": "ipython3",
   "version": "3.9.12"
  }
 },
 "nbformat": 4,
 "nbformat_minor": 5
}
