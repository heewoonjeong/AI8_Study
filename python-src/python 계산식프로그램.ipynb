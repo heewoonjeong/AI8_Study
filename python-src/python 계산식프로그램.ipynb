{
 "cells": [
  {
   "cell_type": "code",
   "execution_count": 1,
   "id": "4d19f2b6",
   "metadata": {},
   "outputs": [],
   "source": [
    "# 3 + 4 -> 7 계산기 프로그램 작성 \n",
    "# 반복해서 작성 \n",
    "# 처음 문자에 'q'가 입력 되면 프로그램 종료 \n",
    "# 1. 문자열 입력 -> 리스트에 저장 \n",
    "# 2. 리스트의 자료를 가져 옴 \n",
    "# 3. 리스트의 처음 자료가 'q' 이면 반복 종료\n",
    "# 4. 계속 입력 -> 리스트에 저장 "
   ]
  },
  {
   "cell_type": "code",
   "execution_count": 4,
   "id": "7ae4beda",
   "metadata": {},
   "outputs": [
    {
     "name": "stdout",
     "output_type": "stream",
     "text": [
      "계산식 입력 : (ex: 10 + 20 )10 + 20\n"
     ]
    }
   ],
   "source": [
    "# 키보드에서 자료를 입력 받아 리스트로 저장 , 자료의 구분은 space\n",
    "input_data = input(\"계산식 입력 : (ex: 10 + 20 )\").split()\n",
    "    "
   ]
  },
  {
   "cell_type": "code",
   "execution_count": 21,
   "id": "8c923058",
   "metadata": {},
   "outputs": [
    {
     "name": "stdout",
     "output_type": "stream",
     "text": [
      "계산식 : q\n",
      "program end!!\n"
     ]
    }
   ],
   "source": [
    "while True:  #무한 반복\n",
    "    input_data = input(\"계산식 : \").split()\n",
    "    if input_data[0] == 'q':\n",
    "        print('program end!!')\n",
    "        break\n"
   ]
  },
  {
   "cell_type": "code",
   "execution_count": null,
   "id": "864ba4d3",
   "metadata": {},
   "outputs": [],
   "source": []
  }
 ],
 "metadata": {
  "kernelspec": {
   "display_name": "Python 3 (ipykernel)",
   "language": "python",
   "name": "python3"
  },
  "language_info": {
   "codemirror_mode": {
    "name": "ipython",
    "version": 3
   },
   "file_extension": ".py",
   "mimetype": "text/x-python",
   "name": "python",
   "nbconvert_exporter": "python",
   "pygments_lexer": "ipython3",
   "version": "3.9.12"
  }
 },
 "nbformat": 4,
 "nbformat_minor": 5
}
