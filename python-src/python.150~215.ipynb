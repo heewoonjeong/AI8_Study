{
 "cells": [
  {
   "cell_type": "markdown",
   "id": "7302c684",
   "metadata": {},
   "source": [
    "## 150p"
   ]
  },
  {
   "cell_type": "code",
   "execution_count": 4,
   "id": "594e07e5",
   "metadata": {},
   "outputs": [
    {
     "data": {
      "text/plain": [
       "\"52 <class 'int'> \""
      ]
     },
     "execution_count": 4,
     "metadata": {},
     "output_type": "execute_result"
    }
   ],
   "source": [
    "# 1번문제 #3번 index out of range \n",
    "\"{} {}\" .format(52, 273)\n",
    "\"{} {} \".format(52, type(273))"
   ]
  },
  {
   "cell_type": "code",
   "execution_count": 5,
   "id": "ce98bbdc",
   "metadata": {},
   "outputs": [
    {
     "ename": "IndexError",
     "evalue": "Replacement index 2 out of range for positional args tuple",
     "output_type": "error",
     "traceback": [
      "\u001b[1;31m---------------------------------------------------------------------------\u001b[0m",
      "\u001b[1;31mIndexError\u001b[0m                                Traceback (most recent call last)",
      "Input \u001b[1;32mIn [5]\u001b[0m, in \u001b[0;36m<cell line: 1>\u001b[1;34m()\u001b[0m\n\u001b[1;32m----> 1\u001b[0m \u001b[38;5;124;43m\"\u001b[39;49m\u001b[38;5;132;43;01m{}\u001b[39;49;00m\u001b[38;5;124;43m \u001b[39;49m\u001b[38;5;132;43;01m{}\u001b[39;49;00m\u001b[38;5;124;43m \u001b[39;49m\u001b[38;5;132;43;01m{}\u001b[39;49;00m\u001b[38;5;124;43m \u001b[39;49m\u001b[38;5;124;43m\"\u001b[39;49m\u001b[43m \u001b[49m\u001b[38;5;241;43m.\u001b[39;49m\u001b[43mformat\u001b[49m\u001b[43m(\u001b[49m\u001b[38;5;241;43m52\u001b[39;49m\u001b[43m,\u001b[49m\u001b[43m \u001b[49m\u001b[38;5;28;43mtype\u001b[39;49m\u001b[43m(\u001b[49m\u001b[38;5;241;43m273\u001b[39;49m\u001b[43m)\u001b[49m\u001b[43m)\u001b[49m\n",
      "\u001b[1;31mIndexError\u001b[0m: Replacement index 2 out of range for positional args tuple"
     ]
    }
   ],
   "source": [
    "\"{} {} {} \" .format(52, type(273))"
   ]
  },
  {
   "cell_type": "code",
   "execution_count": 7,
   "id": "477fe0b4",
   "metadata": {},
   "outputs": [
    {
     "data": {
      "text/plain": [
       "'52 '"
      ]
     },
     "execution_count": 7,
     "metadata": {},
     "output_type": "execute_result"
    }
   ],
   "source": [
    "\"{} \" .format(52, 273)"
   ]
  },
  {
   "cell_type": "code",
   "execution_count": 8,
   "id": "032c0654",
   "metadata": {},
   "outputs": [],
   "source": [
    "#2번 \n",
    "#split - 문자열을 특정 문자로 분리하는함수 \n",
    "#upper - 소문자를 대분자로 변환해주는 함수\n",
    "#lower - 대문자를 소문자로 변환해주는 함수\n",
    "#strip - 문자열이 공백을 제거해주는 함수 "
   ]
  },
  {
   "cell_type": "code",
   "execution_count": 20,
   "id": "48290a0b",
   "metadata": {},
   "outputs": [
    {
     "name": "stdout",
     "output_type": "stream",
     "text": [
      "> 1번째 숫자: 100\n",
      "> 2번째 숫자: 200\n",
      "\n",
      "100 + 200 = 300\n"
     ]
    }
   ],
   "source": [
    "#3번 \n",
    "a = input(\"> 1번째 숫자: \")\n",
    "b = input(\"> 2번째 숫자: \")\n",
    "print() \n",
    "\n",
    "\n",
    "print(\"{} + {} = {}\".format( a, b, int(a) + int(b)))"
   ]
  },
  {
   "cell_type": "code",
   "execution_count": 27,
   "id": "fda5d71e",
   "metadata": {},
   "outputs": [
    {
     "name": "stdout",
     "output_type": "stream",
     "text": [
      "A 지점 :  hello\n",
      "B 지점 :  HELLO\n"
     ]
    }
   ],
   "source": [
    "#4번 문제 \n",
    "string = \"hello\"\n",
    "\n",
    "#string.upper() 실행하고,  string 출력하기 \n",
    "string.upper()\n",
    "print(\"A 지점 : \", string ) \n",
    "#string.upper()실행하기 \n",
    "print(\"B 지점 : \", string.upper())"
   ]
  },
  {
   "cell_type": "markdown",
   "id": "d8920cda",
   "metadata": {},
   "source": [
    "## 152p"
   ]
  },
  {
   "cell_type": "code",
   "execution_count": 44,
   "id": "cd2d07da",
   "metadata": {},
   "outputs": [
    {
     "name": "stdout",
     "output_type": "stream",
     "text": [
      "구의 반지름을 입력해주세요 :5\n",
      "=구의 부피는 523.5986666666666 입니다. \n",
      "=구의 넒이는 314.1592 입니다.\n"
     ]
    }
   ],
   "source": [
    "# 1번 문제\n",
    "pi = 3.141592\n",
    "r = 5\n",
    "\n",
    "input(\"구의 반지름을 입력해주세요 :\")\n",
    "\n",
    "print(\"=구의 부피는 {} 입니다. \".format( 4 / 3 * pi * r ** 3))\n",
    "print(\"=구의 넒이는 {} 입니다.\".format(4 * pi * r ** 2))"
   ]
  },
  {
   "cell_type": "code",
   "execution_count": 45,
   "id": "3eee1bb0",
   "metadata": {},
   "outputs": [
    {
     "ename": "SyntaxError",
     "evalue": "cannot assign to operator (2133862106.py, line 2)",
     "output_type": "error",
     "traceback": [
      "\u001b[1;36m  Input \u001b[1;32mIn [45]\u001b[1;36m\u001b[0m\n\u001b[1;33m    a ** 2 = 3.0\u001b[0m\n\u001b[1;37m    ^\u001b[0m\n\u001b[1;31mSyntaxError\u001b[0m\u001b[1;31m:\u001b[0m cannot assign to operator\n"
     ]
    }
   ],
   "source": [
    "#2번 문제 \n",
    "a ** 2 = 3.0\n",
    "b ** 2 = 4.0\n",
    "c ** 2 = 5.0 \n",
    "\n",
    "input('밑변의 길이를 입력해주세요:')\n",
    "input('높이의 길이를 입력해주세요:')\n",
    "print('= 빗변의 길이는 {} 입니다 .'.format(c= (a ** 2 + b** 2 )))"
   ]
  },
  {
   "cell_type": "markdown",
   "id": "8d6a25ec",
   "metadata": {},
   "source": [
    "## 174p"
   ]
  },
  {
   "cell_type": "code",
   "execution_count": 48,
   "id": "786f2624",
   "metadata": {},
   "outputs": [
    {
     "data": {
      "text/plain": [
       "False"
      ]
     },
     "execution_count": 48,
     "metadata": {},
     "output_type": "execute_result"
    }
   ],
   "source": [
    "# 1번문제 \n",
    "10 == 100 #다름 F\n",
    "10 != 100 #다름 T\n",
    "10 > 100 #작음 F\n",
    "10 < 100 #큼 T \n",
    "10 <= 100 #크거나같음T\n",
    "10 >= 100  #크거나같음F"
   ]
  },
  {
   "cell_type": "code",
   "execution_count": 56,
   "id": "2a93ceb0",
   "metadata": {},
   "outputs": [
    {
     "name": "stdout",
     "output_type": "stream",
     "text": [
      "참입니다\n"
     ]
    }
   ],
   "source": [
    "#2번문제 \n",
    "x = 2 \n",
    "if x > 4:\n",
    "    print('참입니다')\n",
    "    \n",
    "x = 1 \n",
    "if x > 4:\n",
    "    print('참입니다')\n",
    "    \n",
    "x = 10 \n",
    "if x > 4: \n",
    "    print('참입니다') # 10은 4보다 크다\n"
   ]
  },
  {
   "cell_type": "code",
   "execution_count": 57,
   "id": "1a743d58",
   "metadata": {},
   "outputs": [],
   "source": [
    "# 3번문제 \n",
    "#1. 치킨이나 햄버거 둘다포함 or \n",
    "#2. H브랜드 와 10만원 이하를 조건 선택하므로   and\n",
    "#3. 65세 이상 5세 아동은 겹치므로 or \n"
   ]
  },
  {
   "cell_type": "code",
   "execution_count": 61,
   "id": "dc3c1bff",
   "metadata": {},
   "outputs": [
    {
     "name": "stdout",
     "output_type": "stream",
     "text": [
      "> 1번째 숫자 : 100\n",
      "> 2번째 숫자 : 10\n",
      "\n",
      "처음 입력했던 100.0가 10.0보다 더 큽니다\n"
     ]
    }
   ],
   "source": [
    "#4번 문제\n",
    "a = float(input('> 1번째 숫자 : '))\n",
    "b = float(input('> 2번째 숫자 : '))\n",
    "print() \n",
    "\n",
    "if a > b : \n",
    "    print('처음 입력했던 {}가 {}보다 더 큽니다'.format( a , b))\n",
    "if a < b :\n",
    "    print('두번째로 입력했던 {}가 {}보다 더 큽니다'.format(a , b))"
   ]
  },
  {
   "cell_type": "markdown",
   "id": "4291969d",
   "metadata": {},
   "source": [
    "## 187p"
   ]
  },
  {
   "cell_type": "code",
   "execution_count": 67,
   "id": "7af2efc1",
   "metadata": {},
   "outputs": [
    {
     "name": "stdout",
     "output_type": "stream",
     "text": [
      "12\n"
     ]
    }
   ],
   "source": [
    "#1번문제 (1)\n",
    "x = 2 \n",
    "y = 10 \n",
    "\n",
    "if x > 4 : \n",
    "    if y > 2 : \n",
    "        print( x * y ) # 조건문 x > 4가 거짓이므로 else 가 실행되어 12가나옴\n",
    "else:\n",
    "    print( x + y )"
   ]
  },
  {
   "cell_type": "code",
   "execution_count": 70,
   "id": "38b89d13",
   "metadata": {},
   "outputs": [
    {
     "name": "stdout",
     "output_type": "stream",
     "text": [
      "5\n"
     ]
    }
   ],
   "source": [
    "#1번문제 (2)\n",
    "x = 1 \n",
    "y = 4 \n",
    "\n",
    "if x > 4 : \n",
    "    if y > 2 : \n",
    "        print( x * y ) # 조건문 x > 4가 거짓이므로 else 가 실행되어 5가나옴\n",
    "else:\n",
    "    print( x + y )"
   ]
  },
  {
   "cell_type": "code",
   "execution_count": 71,
   "id": "9a4fe647",
   "metadata": {},
   "outputs": [],
   "source": [
    "#1번문제 (2)\n",
    "x = 10 \n",
    "y = 2 \n",
    "\n",
    "if x > 4 : \n",
    "    if y > 2 : \n",
    "        print( x * y ) # ???? 2 > 2 가 왜 참?\n",
    "else:\n",
    "    print( x + y )"
   ]
  },
  {
   "cell_type": "code",
   "execution_count": 10,
   "id": "59322e4b",
   "metadata": {},
   "outputs": [
    {
     "name": "stdout",
     "output_type": "stream",
     "text": [
      "10 에서 20 사이: 11\n",
      " 조건에 맞습니다 \n"
     ]
    }
   ],
   "source": [
    "#2번 문제 \n",
    "x = input(\"10 에서 20 사이: \")\n",
    "x = int(x)\n",
    "if x > 10 :  \n",
    "    if x < 20 :\n",
    "        print(\" 조건에 맞습니다 \")"
   ]
  },
  {
   "cell_type": "code",
   "execution_count": 18,
   "id": "a1264c99",
   "metadata": {},
   "outputs": [
    {
     "name": "stdout",
     "output_type": "stream",
     "text": [
      "태어난 해를 입력해 주세요> 1988\n",
      "용 띠입니다.\n"
     ]
    }
   ],
   "source": [
    "#3번 문제\n",
    "str_input = input(\"태어난 해를 입력해 주세요> \")\n",
    "birth_year = int(str_input)\n",
    "\n",
    "if birth_year % 12 == 0:\n",
    "    print(\"원숭이 띠입니다.\")\n",
    "elif birth_year % 12 == 1:\n",
    "    print(\"닭 띠입니다.\")\n",
    "elif birth_year % 12 == 2:\n",
    "    print(\"개 띠입니다.\")\n",
    "elif birth_year % 12 == 3:\n",
    "    print(\"돼지 띠입니다.\")\n",
    "elif birth_year % 12 == 4:\n",
    "    print(\"쥐 띠입니다.\")\n",
    "elif birth_year % 12 == 5:\n",
    "    print(\"소 띠입니다.\")\n",
    "elif birth_year % 12 == 6:\n",
    "    print(\"범 띠입니다.\")\n",
    "elif birth_year % 12 == 7:\n",
    "    print(\"토끼 띠입니다.\")\n",
    "elif birth_year % 12 == 8:\n",
    "    print(\"용 띠입니다.\")\n",
    "elif birth_year % 12 == 9:\n",
    "    print(\"뱀 띠입니다.\")\n",
    "elif birth_year % 12 == 10:\n",
    "    print(\"말 띠입니다.\")\n",
    "elif birth_year % 12 == 11:\n",
    "    print(\"양 띠입니다.\")"
   ]
  },
  {
   "cell_type": "markdown",
   "id": "52e7d4f7",
   "metadata": {},
   "source": [
    "## 188p "
   ]
  },
  {
   "cell_type": "code",
   "execution_count": 111,
   "id": "d3575842",
   "metadata": {},
   "outputs": [
    {
     "name": "stdout",
     "output_type": "stream",
     "text": [
      "입력 : 지금 몇시에요\n",
      "지금은 10 시 입니다.\n"
     ]
    }
   ],
   "source": [
    "# 1번\n",
    "import datetime \n",
    "now = datetime.datetime.now()\n",
    "hello_list =[[\"안녕 \",\"안녕하세요\"],[\"지금 몇 시야\",\"지금 몇시에요\"]]\n",
    "hello_sp = input(\"입력 : \")\n",
    "if hello_sp in hello_list [0]:\n",
    "    print(\"안녕하세요.\")\n",
    "elif hello_sp in hello_list[1] : \n",
    "    print(\"지금은 {} 시 입니다.\".format(now.hour))\n",
    "else :\n",
    "    print( '{}' .format( hello_sp )) "
   ]
  },
  {
   "cell_type": "code",
   "execution_count": 114,
   "id": "4be2e4d7",
   "metadata": {
    "scrolled": true
   },
   "outputs": [
    {
     "name": "stdout",
     "output_type": "stream",
     "text": [
      "정수를 입력해주세요 : 273\n",
      "273은 2로 나누어 떨어지는 숫자가 아닙니다.\n",
      "273은 3로 나누어 떨어지는 숫자입니다.\n",
      "273은 4로 나누어 떨어지는 숫자가 아닙니다.\n",
      "273은 5로 나누어 떨어지는 숫자가 아닙니다.\n"
     ]
    }
   ],
   "source": [
    "#2번\n",
    "input_num = input(\"정수를 입력해주세요 : \")\n",
    "\n",
    "input_num = int(input_num)\n",
    "\n",
    "num_list = [2,3,4,5]\n",
    "\n",
    "for value in num_list:\n",
    "    if input_num % value == 0:\n",
    "        print(\"{}은 {}로 나누어 떨어지는 숫자입니다.\".format(input_num, value))\n",
    "    else:\n",
    "        print(\"{}은 {}로 나누어 떨어지는 숫자가 아닙니다.\".format(input_num, value))"
   ]
  },
  {
   "cell_type": "code",
   "execution_count": 122,
   "id": "d0677550",
   "metadata": {},
   "outputs": [
    {
     "data": {
      "text/plain": [
       "[1, 2, 3, 4, 5, 6, 7, 1, 2, 3, 4, 5, 6, 7, 10]"
      ]
     },
     "execution_count": 122,
     "metadata": {},
     "output_type": "execute_result"
    }
   ],
   "source": [
    "## 213p \n",
    "#1번문제\n",
    "list_a = [0,1,2,3,4,5,6,7]\n",
    "#리스트 요소 추가 함수\n",
    "list_a.extend(list_a) #[0,1, 2, 3, 4, 5, 6, 7, 0,1, 2, 3, 4, 5, 6, 7]\n",
    "list_a.append(10) #[[0,1, 2, 3, 4, 5, 6, 7, 10]\n",
    "list_a.insert(3, 0) #[0,1, 2, 0, 3, 4, 5, 6, 7]\n",
    "#리스트 요소 제거 함수\n",
    "list_a.remove(3) #[0,1, 2, 4, 5, 6, 7]\n",
    "list_a.pop(3) #[0,1, 2, 4, 5, 6, 7]\n",
    "\n",
    "list_a.clear() # []"
   ]
  },
  {
   "cell_type": "code",
   "execution_count": 140,
   "id": "01650d12",
   "metadata": {},
   "outputs": [
    {
     "name": "stdout",
     "output_type": "stream",
     "text": [
      "- 100 이상의 수: 273 \n",
      "- 100 이상의 수: 103 \n",
      "- 100 이상의 수: 800 \n"
     ]
    }
   ],
   "source": [
    "#2번문제\n",
    "numbers = [273, 103, 5, 32, 65, 9, 72, 800, 99]\n",
    "\n",
    "for number in numbers : \n",
    "    if number >= 100 :\n",
    "        print(\"- 100 이상의 수: {} \".format(number))"
   ]
  },
  {
   "cell_type": "code",
   "execution_count": 141,
   "id": "b3e7d850",
   "metadata": {},
   "outputs": [
    {
     "name": "stdout",
     "output_type": "stream",
     "text": [
      "273 는 홀수 입니다. \n",
      "103 는 홀수 입니다. \n",
      "5 는 홀수 입니다. \n",
      "32 는 짝수 입니다. \n",
      "65 는 홀수 입니다. \n",
      "9 는 홀수 입니다. \n",
      "72 는 짝수 입니다. \n",
      "800 는 짝수 입니다. \n",
      "99 는 홀수 입니다. \n"
     ]
    }
   ],
   "source": [
    "#3번 문제 \n",
    "numbers = [273, 103, 5, 32, 65, 9, 72, 800, 99]\n",
    "\n",
    "for number in numbers : \n",
    "    if number % 2 == 0 :\n",
    "        print(\"{} 는 짝수 입니다. \".format(number))\n",
    "    else:\n",
    "        print(\"{} 는 홀수 입니다. \".format(number)) \n",
    "        "
   ]
  },
  {
   "cell_type": "code",
   "execution_count": 146,
   "id": "d274998f",
   "metadata": {},
   "outputs": [
    {
     "name": "stdout",
     "output_type": "stream",
     "text": [
      "273 는 3 자릿수 입니다\n",
      "103 는 3 자릿수 입니다\n",
      "5 는 1 자릿수 입니다\n",
      "32 는 2 자릿수 입니다\n",
      "65 는 2 자릿수 입니다\n",
      "9 는 1 자릿수 입니다\n",
      "72 는 2 자릿수 입니다\n",
      "800 는 3 자릿수 입니다\n",
      "99 는 2 자릿수 입니다\n"
     ]
    }
   ],
   "source": [
    "#3번 문제 \n",
    "numbers = [273, 103, 5, 32, 65, 9, 72, 800, 99]\n",
    "\n",
    "for number in numbers :\n",
    "    print(\"{} 는 {} 자릿수 입니다\".format(number, len(str(number))))"
   ]
  },
  {
   "cell_type": "code",
   "execution_count": null,
   "id": "45ff5359",
   "metadata": {},
   "outputs": [],
   "source": []
  },
  {
   "cell_type": "code",
   "execution_count": 161,
   "id": "cb4230bc",
   "metadata": {},
   "outputs": [
    {
     "name": "stdout",
     "output_type": "stream",
     "text": [
      "[[1, 4, 7], [2, 5, 8], [3, 6, 9]]\n"
     ]
    }
   ],
   "source": [
    "#4번 문제 \n",
    "numbers = [1, 2, 3, 4, 5, 6, 7, 8, 9] #list(range)(1,10))\n",
    "output = [[], [], []]\n",
    "\n",
    "for number in numbers : \n",
    "    output[(number -1  ) % 3].append(number)\n",
    "    \n",
    "print(output)"
   ]
  },
  {
   "cell_type": "code",
   "execution_count": 1,
   "id": "df3bbfb2",
   "metadata": {},
   "outputs": [
    {
     "name": "stdout",
     "output_type": "stream",
     "text": [
      " i = 0, j = 1\n",
      " i = 1, j = 3\n",
      " i = 2, j = 5\n",
      " i = 3, j = 7\n",
      "[1, 4, 3, 16, 5, 36, 7, 64, 9]\n"
     ]
    }
   ],
   "source": [
    "#5번 문제 \n",
    "numbers = [1, 2, 3, 4, 5, 6, 7, 8, 9] #list(range)(1,10))\n",
    "for i in range(0, len(numbers) // 2) : # range(0,4) -> 0, 1, 2, 3\n",
    "    # j 가 1, 3, 5, 7이 나오려면 어떤식을 사용 해야 할까요? \n",
    "    j = (i *2 ) + 1        #nums[ i + i ] or # j = num[i]\n",
    "    print(f\" i = {i}, j = {j}\") \n",
    "    numbers[j] = numbers[j] ** 2\n",
    "    \n",
    "print(numbers)"
   ]
  },
  {
   "cell_type": "code",
   "execution_count": 168,
   "id": "3ec6c514",
   "metadata": {},
   "outputs": [
    {
     "ename": "IndentationError",
     "evalue": "expected an indented block (2037509073.py, line 3)",
     "output_type": "error",
     "traceback": [
      "\u001b[1;36m  Input \u001b[1;32mIn [168]\u001b[1;36m\u001b[0m\n\u001b[1;33m    for i in range( 1,len(numbers) // 2) :\u001b[0m\n\u001b[1;37m                                          ^\u001b[0m\n\u001b[1;31mIndentationError\u001b[0m\u001b[1;31m:\u001b[0m expected an indented block\n"
     ]
    }
   ],
   "source": []
  },
  {
   "cell_type": "code",
   "execution_count": null,
   "id": "0c415eb3",
   "metadata": {},
   "outputs": [],
   "source": []
  }
 ],
 "metadata": {
  "kernelspec": {
   "display_name": "Python 3 (ipykernel)",
   "language": "python",
   "name": "python3"
  },
  "language_info": {
   "codemirror_mode": {
    "name": "ipython",
    "version": 3
   },
   "file_extension": ".py",
   "mimetype": "text/x-python",
   "name": "python",
   "nbconvert_exporter": "python",
   "pygments_lexer": "ipython3",
   "version": "3.9.12"
  }
 },
 "nbformat": 4,
 "nbformat_minor": 5
}
