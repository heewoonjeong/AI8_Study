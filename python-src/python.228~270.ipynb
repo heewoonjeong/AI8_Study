{
 "cells": [
  {
   "cell_type": "markdown",
   "id": "a935de65",
   "metadata": {},
   "source": [
    "## 228p"
   ]
  },
  {
   "cell_type": "code",
   "execution_count": null,
   "id": "9dc32d94",
   "metadata": {},
   "outputs": [],
   "source": []
  },
  {
   "cell_type": "code",
   "execution_count": 20,
   "id": "74c180f1",
   "metadata": {},
   "outputs": [
    {
     "data": {
      "text/plain": [
       "{'name': '구름'}"
      ]
     },
     "execution_count": 20,
     "metadata": {},
     "output_type": "execute_result"
    }
   ],
   "source": [
    "# 1문제 \n",
    "dict_a = {}\n",
    "dict_a[\"name\"]=\"구름\"\n",
    "dict_a"
   ]
  },
  {
   "cell_type": "code",
   "execution_count": 23,
   "id": "b8a6cbe1",
   "metadata": {},
   "outputs": [
    {
     "data": {
      "text/plain": [
       "{}"
      ]
     },
     "execution_count": 23,
     "metadata": {},
     "output_type": "execute_result"
    }
   ],
   "source": [
    "dict_a = {'name': '구름'}\n",
    "del dict_a[\"name\"]\n",
    "dict_a"
   ]
  },
  {
   "cell_type": "code",
   "execution_count": 41,
   "id": "cf139b27",
   "metadata": {},
   "outputs": [
    {
     "name": "stdout",
     "output_type": "stream",
     "text": [
      "# 우리 동네 애완 동물들\n",
      "구름 5살\n",
      "초코 3살\n",
      "아지 1살\n",
      "호랑이 1살\n"
     ]
    }
   ],
   "source": [
    "#2번문제\n",
    "pets = [\n",
    "    {\"name\": \"구름\", \"age\" : 5},\n",
    "    {\"name\": \"초코\", \"age\" : 3},\n",
    "    {\"name\": \"아지\", \"age\" : 1},\n",
    "    {\"name\": \"호랑이\", \"age\" : 1}\n",
    "]\n",
    "\n",
    "\n",
    "print(\"# 우리 동네 애완 동물들\")\n",
    "for pet in pets:\n",
    "    print(pet[\"name\"], str(pet[\"age\"]) + \"살\")"
   ]
  },
  {
   "cell_type": "code",
   "execution_count": 32,
   "id": "b83e1c6e",
   "metadata": {},
   "outputs": [
    {
     "name": "stdout",
     "output_type": "stream",
     "text": [
      "> 숫자 입력 : 1\n",
      "{1: 3, 2: 4, 6: 1, 8: 2, 4: 3, 3: 3, 9: 3, 5: 2, 7: 2}\n"
     ]
    }
   ],
   "source": [
    "# 3번 문제\n",
    "# 숫자는 무작위로 입력해도 상관 없습니다.\n",
    "numbers = [1,2,6,8,4,3,2,1,9,5,4,9,7,2,1,3,5,4,8,9,7,2,3]\n",
    "counter = {} \n",
    "number = input('> 숫자 입력 : ')\n",
    "for number in numbers:\n",
    "    if number in counter:\n",
    "        counter[number] = counter[number] + 1 \n",
    "    else:\n",
    "        counter[number] = 1\n",
    "    \n",
    "print(counter)"
   ]
  },
  {
   "cell_type": "code",
   "execution_count": null,
   "id": "eb50dc28",
   "metadata": {},
   "outputs": [],
   "source": []
  },
  {
   "cell_type": "code",
   "execution_count": 5,
   "id": "6097e117",
   "metadata": {},
   "outputs": [
    {
     "name": "stdout",
     "output_type": "stream",
     "text": [
      "name : 기사\n",
      "level : 12\n",
      "sword : 불꽃의 검\n",
      "armor : 풀플레이트\n",
      "skill : 베기\n",
      "skill : 세게 베기\n",
      "skill : 아주 세게 베기\n"
     ]
    }
   ],
   "source": [
    "# 4번 문제 \n",
    "type(\"문자열\") is str # 문자열인지\n",
    "type([]) is list # 리스트인지 \n",
    "type({}) is dict #딕셔너리인지 \n",
    "\n",
    "# 딕셔너리를 선언합니다 \n",
    "character = {\n",
    "    \"name\": \"기사\",\n",
    "    \"level\" : \"12\",\n",
    "    \"items\" : {\n",
    "        \"sword\" : \"불꽃의 검\",\n",
    "        \"armor\" : \"풀플레이트\"\n",
    "    },\n",
    "    \"skill\" : [\"베기\", \"세게 베기\", \"아주 세게 베기\"]            \n",
    "}\n",
    "\n",
    "# for 반복문을 사용 합니다 \n",
    "for key in character:\n",
    "    if type(character[key]) is dict: \n",
    "        for one_key in character[key]:\n",
    "            print(one_key, \":\", character[key][one_key])\n",
    "    elif type (character[key]) is list:\n",
    "        for skill in character[key]:\n",
    "            print(key, \":\" , skill)\n",
    "    else:\n",
    "        print(key, \":\", character[key])\n",
    "         "
   ]
  },
  {
   "cell_type": "markdown",
   "id": "ba419023",
   "metadata": {},
   "source": [
    "## 247p"
   ]
  },
  {
   "cell_type": "code",
   "execution_count": 51,
   "id": "1d6ccd21",
   "metadata": {},
   "outputs": [
    {
     "data": {
      "text/plain": [
       "[3, 6, 9]"
      ]
     },
     "execution_count": 51,
     "metadata": {},
     "output_type": "execute_result"
    }
   ],
   "source": [
    "#문제 1 #range코드일때 > 나타내는 값\n",
    "list(range(5)) # [0,1,2,3,4]\n",
    "list(range(4,6)) # 4,6\n",
    "list(range(7,0, -1)) # [7, 6, 5, 4, 3, 2, 1]\n",
    "list(range(3,8)) # [3, 4, 5, 6, 7]\n",
    "list(range(3,12,+3)) # [3, 6, 9]"
   ]
  },
  {
   "cell_type": "code",
   "execution_count": 73,
   "id": "884328ae",
   "metadata": {},
   "outputs": [
    {
     "name": "stdout",
     "output_type": "stream",
     "text": [
      "{'name': '기사', 'hp': 200, 'mp': 30, 'level': 5}\n"
     ]
    }
   ],
   "source": [
    "#문제 2 #키와 값으로 이루어진 각 리스트를 조합해 하나의 딕셔너리로 만들어라\n",
    "# 숫자는 무작위로 입력해도 상관없습니다. \n",
    "key_list = [\"name\" , \"hp\", \"mp\", \"level\"]\n",
    "value_list =[\"기사\", 200, 30 , 5]\n",
    "character = {} \n",
    "for i in range(0 , len(key_list)) : \n",
    "    character[key_list[i]] = value_list[i]\n",
    "print(character)"
   ]
  },
  {
   "cell_type": "code",
   "execution_count": 89,
   "id": "a1e1abae",
   "metadata": {},
   "outputs": [
    {
     "name": "stdout",
     "output_type": "stream",
     "text": [
      "142를 더할때 10000을 넘으며 그때의 값은 10011 입니다 .\n"
     ]
    }
   ],
   "source": [
    "#문제3 \n",
    "# 1부터 숫자를 하나씩 증가시면서 더하는 경우를 생각해봅시다 몇을 더할 때 1000을 넘는지 구해 보세요. \n",
    "# 그리고 그때의 값도 출력해 보세요 다음은 10000이 넘는 경우를 구한 예입니다\n",
    "\n",
    "limit = 10000\n",
    "i = 1 \n",
    "sum_value = 0\n",
    "while sum_value < limit:\n",
    "    sum_value += i \n",
    "    i += 1\n",
    "\n",
    "#sum은 파이썬 내부에서 사용하는 식별자 이므로 sum_value라는 변수의 이름을 사용합니다.\n",
    "\n",
    "print(\"{}를 더할때 {}을 넘으며 그때의 값은 {} 입니다 .\".format(i, limit, sum_value))"
   ]
  },
  {
   "cell_type": "code",
   "execution_count": 97,
   "id": "c1a58375",
   "metadata": {},
   "outputs": [
    {
     "name": "stdout",
     "output_type": "stream",
     "text": [
      "최대가 되는 경우: 50 * 50 = 2500\n"
     ]
    }
   ],
   "source": [
    "# 문제 4 \n",
    "# 1부터 100까지의 숫자가 있다고 하고 다음과 같이 계산한다고 했을때 최대가 되는 경우는 어떤숫자를 곱했을 때인지 찾아라\n",
    "# 1 * 99, 2 * 98, 3 * 97........... 98 * 2 , 99 * 1    # 실행결과 50 * 50 = 2500\n",
    "# 어떤 수학적 문제를 프로그래밍으로 풀 떄는 크게 2가지 방법이 있다 \n",
    "# 하나는 수학 상식에 기초해서 푸는것이고 \n",
    "# 다른 하나는 공식을 모른다고 가정했을때 반복문을 사용하여 원하는 조건의 값을 찾는 것 \n",
    "# 반복문을 사용하여 모든 경우울ㄹ 찾는 방법으로 풀어라 \n",
    "\n",
    "max_value = 0 \n",
    "a = 0 \n",
    "b = 0 \n",
    "\n",
    "for i in range(1, 100 // 2 +1): \n",
    "    j= 100 -i \n",
    "    \n",
    "    #최댓값 구하기 \n",
    "    current = i * j\n",
    "    if max_value < current:\n",
    "        a = i \n",
    "        b = j \n",
    "        max_value = current\n",
    "print(\"최대가 되는 경우: {} * {} = {}\".format(a, b, max_value)) "
   ]
  },
  {
   "cell_type": "markdown",
   "id": "5c8d0ced",
   "metadata": {},
   "source": [
    "## 266p\n"
   ]
  },
  {
   "cell_type": "code",
   "execution_count": 99,
   "id": "f3cf80df",
   "metadata": {},
   "outputs": [],
   "source": [
    "# 문제 1\n",
    "# enumerate()함수와 items() 함수의 사용법으로 올바른 것은?\n",
    "# enumerate(list) , dict.items "
   ]
  },
  {
   "cell_type": "code",
   "execution_count": 111,
   "id": "bbbb51dd",
   "metadata": {},
   "outputs": [
    {
     "name": "stdout",
     "output_type": "stream",
     "text": [
      "2 : 10\n",
      "5 : 101\n",
      "6 : 110\n",
      "11 : 1011\n",
      "13 : 1101\n",
      "14 : 1110\n",
      "23 : 10111\n",
      "27 : 11011\n",
      "29 : 11101\n",
      "30 : 11110\n",
      "47 : 101111\n",
      "55 : 110111\n",
      "59 : 111011\n",
      "61 : 111101\n",
      "62 : 111110\n",
      "95 : 1011111\n",
      "합계:  539\n"
     ]
    }
   ],
   "source": [
    "#문제 2 \n",
    "# 2진수 , 8진수, 16진수로 변환하는 코드는 많이 사용됩니다. 다음과 같은 형태로 10진수를 변환할 수 있습니다. \n",
    "\n",
    "# 10진수와 2진수변환 \n",
    "\"{:b}\" .format(10) #'1010' # 변환 했을때 따옴표로 둘러싸여 있다면 문자열 자료형 입니다.\n",
    " \n",
    "int(\"1010\",2) #10 \n",
    "\n",
    "# 10진수와 8진수 변환\n",
    "\"{:o}\" .format(10) # '12'\n",
    "\n",
    "int(\"12\", 8) # 10 \n",
    "\n",
    "# 10진수와 16진수 변환\n",
    "\"{:x}\".format(10) # 'a' \n",
    "\n",
    "int(\"10\" , 16) # 16\n",
    "\n",
    "# 반복가능한 객체(문자열,리스트 범위 등)의 count() 함수는 다음과 같이 사용합니다 \n",
    "\"안녕안녕하세요\" .count(\"안\") # 2   -> 문자열을 매개 변수로 넣어야합니다. \n",
    "\n",
    "# 이를 활용해서 1~100 사이에 있는 숫자 중 2진수로 변환했을 때 0이 하나만 포함된 숫자를 찾고, 그 숫자들의 합을 구하는 코드를 만들어 보세요\n",
    "# 리스트 내포를 사용해본 코드 입니다. \n",
    "output = [i for i in range(1, 100 +1 )\n",
    "    if \"{:b}\".format(i).count(\"0\") == 1]\n",
    "    \n",
    "for i in output: \n",
    "    print(\"{} : {}\".format(i, \"{:b}\".format(i)))\n",
    "print(\"합계: \", sum(output))"
   ]
  },
  {
   "cell_type": "markdown",
   "id": "3fc797ae",
   "metadata": {},
   "source": [
    "## 268p"
   ]
  },
  {
   "cell_type": "code",
   "execution_count": 112,
   "id": "673d649f",
   "metadata": {},
   "outputs": [
    {
     "name": "stdout",
     "output_type": "stream",
     "text": [
      " [1, 2, 3, 4, 1, 2, 3, 4, 1, 2, 3] 에서 \n",
      " 사용된 숫자의 종류는 4개 입니다.\n"
     ]
    }
   ],
   "source": [
    "# 문제 1\n",
    "# 숫자의 종류 \n",
    "# 다음 리스트에서 몇가지 종류의 숫자가 사용되었는지 구하는 프로그램을 만들어 보세요. \n",
    "# 1,2,3,4가 사용되었으므로 4개가 사용되었다고 출력하면 됩니다 \n",
    "\n",
    "a = [1, 2, 3, 4, 1, 2, 3, 4, 1, 2, 3]\n",
    "counter = {}\n",
    "\n",
    "for i in a: \n",
    "    if i not in counter: \n",
    "        counter[i] = 0 \n",
    "    counter[i] += 1 \n",
    "    \n",
    "print(f\" {a} 에서 \")\n",
    "print(f\" 사용된 숫자의 종류는 {len(counter)}개 입니다.\")\n"
   ]
  },
  {
   "cell_type": "code",
   "execution_count": 123,
   "id": "d89c2441",
   "metadata": {},
   "outputs": [
    {
     "name": "stdout",
     "output_type": "stream",
     "text": [
      "염기 서열을 입력해 주세요:ctacaatgtcagtatacccattgcattagccgg\n",
      "a의 개수: 9\n",
      "t의 개수: 9\n",
      "g의 개수: 6\n",
      "c의 개수: 9\n"
     ]
    }
   ],
   "source": [
    "#문제 2 \n",
    "#우리몸은 DNA라는 설계도에 의해서 만들어집니다. \n",
    "# DNA는 A(아데닌), T(티민), G(구아닌), C(사이토신)이라는 4가지 요소로 구성되는 리스트라고 볼 수 있습니다 \n",
    "# ctacaatgtcagtatacccattgcattagccgg \n",
    "# 염기 서열을 입력했을 때 각각의 염기가 몇개 포함되어 있는지 세는 프로그램을 구현해 보세요.\n",
    "\n",
    "atgcs = input(\"염기 서열을 입력해 주세요:\")\n",
    "counter = {\n",
    "    \"a\": 0,\n",
    "    \"t\": 0,\n",
    "    \"g\": 0,\n",
    "    \"c\": 0\n",
    "}\n",
    "\n",
    "for atgc in atgcs:\n",
    "    counter[atgc] += 1 \n",
    "    \n",
    "for key in counter:\n",
    "    print(f\"{key}의 개수: {counter[key]}\")"
   ]
  },
  {
   "cell_type": "code",
   "execution_count": 126,
   "id": "201a4f65",
   "metadata": {},
   "outputs": [
    {
     "name": "stdout",
     "output_type": "stream",
     "text": [
      "cta\n",
      "caa\n",
      "tgt\n",
      "cag\n",
      "tat\n",
      "acc\n",
      "cat\n",
      "tgc\n",
      "att\n",
      "agc\n",
      "cgg\n"
     ]
    }
   ],
   "source": [
    "# 3염기 코돈 개수 \n",
    "# 코돈codon의 개수를 세는 프로그램을 만들어 보세요. \n",
    "# 염기서열은 일반적으로 3개씩 묶여서 하나의 의미를 나타 냅니다. \n",
    "# 즉 다음과 같은 염기 서열이 있다면 ctacaatgtcagtatacccattgcattagccgg \n",
    "# 다음과 같이 3개씩 나뉘어서 의미를 갖는다는 말입니다. \n",
    "# 이렇게 염기 3개가 묶여 있는 것을 '코돈'이라고 부릅니다.\n",
    "\n",
    "# 염기 서열을 입력했을때 어떤 코돈이 몇 개 존재하는지 다음과 같이 출력하는 프로그램을 구현 해 보세요. \n",
    "\n",
    "atgcs = \"ctacaatgtcagtatacccattgcattagccgg\" \n",
    "\n",
    "for i in range(0, len(atgcs), 3):\n",
    "    # 3글자씩 추출합니다.\n",
    "    codon = atgcs[i:i+3]\n",
    "    # 3글자로 구성되는지 확인 합니다.\n",
    "    if len(codon) ==3:\n",
    "        print(codon)"
   ]
  },
  {
   "cell_type": "code",
   "execution_count": 131,
   "id": "6024f708",
   "metadata": {},
   "outputs": [
    {
     "name": "stdout",
     "output_type": "stream",
     "text": [
      "염기 서열을 입력해 주세요:ctacaatgtcagtatacccattgcattagccgg\n",
      "{'cta': 1, 'caa': 1, 'tgt': 1, 'cag': 1, 'tat': 1, 'acc': 1, 'cat': 1, 'tgc': 1, 'att': 1, 'agc': 1, 'cgg': 1}\n"
     ]
    }
   ],
   "source": [
    "atgcs = input(\"염기 서열을 입력해 주세요:\")\n",
    "counter = {} \n",
    "\n",
    "for i in range(0, len(atgcs),3):\n",
    "    # 3글자씩 추출합니다.\n",
    "    codon = atgcs[i:i+3]\n",
    "    # 3글자로 구성되는지 확인 합니다.\n",
    "    if len(codon) ==3:\n",
    "            # 딕셔너리에 키가 없을 경우 추가합니다.\n",
    "            if codon not in counter:\n",
    "                counter[codon] = 0 \n",
    "                #갯수를 추가합니다 \n",
    "            counter[codon] += 1 \n",
    "\n",
    "print(counter)"
   ]
  },
  {
   "cell_type": "code",
   "execution_count": null,
   "id": "906ccb70",
   "metadata": {},
   "outputs": [],
   "source": [
    "# 문제 4\n",
    "# 2차원 리스트 평탄화 \n",
    "# 다음과 같이 리스트가 중첩되어 있을때 중첩을 제거하는 처리를 리스트 평탄화(list flatten)라고 합니다 \n",
    "# [1, 2,[3, 4],5, [6,7],[8, 9]] -> [1, 2, 3, 4, 5, 6, 7, 8, 9] \n",
    "#[1, 2,[3, 4],5, [6,7],[8, 9]]이라는 중첩 리스트를 입력했을때 다음과 같이 출력하는 프로그램을 구현해 보세요 \n",
    "\n",
    "a = [1, 2,[3, 4],5, [6,7],[8, 9]]\n",
    "output = []\n",
    "\n",
    "for i in a : \n",
    "    if type(i) == list : \n",
    "        #요소가 리스트라면: 또 반복해서 요소를 추가합니다 .\n",
    "        for j in i:\n",
    "            output.append(j)\n",
    "    else:\n",
    "        #요소가 숫자라면: 그냥 추가 합니다.\n",
    "        output.append(i)\n",
    "        \n",
    "print(f\"{a}를 평탄화하면\")\n",
    "print(f\"{})"
   ]
  },
  {
   "cell_type": "code",
   "execution_count": null,
   "id": "3a8db04b",
   "metadata": {},
   "outputs": [],
   "source": []
  }
 ],
 "metadata": {
  "kernelspec": {
   "display_name": "Python 3 (ipykernel)",
   "language": "python",
   "name": "python3"
  },
  "language_info": {
   "codemirror_mode": {
    "name": "ipython",
    "version": 3
   },
   "file_extension": ".py",
   "mimetype": "text/x-python",
   "name": "python",
   "nbconvert_exporter": "python",
   "pygments_lexer": "ipython3",
   "version": "3.9.12"
  }
 },
 "nbformat": 4,
 "nbformat_minor": 5
}
