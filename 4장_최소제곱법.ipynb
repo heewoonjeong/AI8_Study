{
  "nbformat": 4,
  "nbformat_minor": 0,
  "metadata": {
    "colab": {
      "name": "4장 최소제곱법.ipynb",
      "provenance": [],
      "collapsed_sections": [],
      "authorship_tag": "ABX9TyMT/1+V+l1cQ5kNOZMBOKjV",
      "include_colab_link": true
    },
    "kernelspec": {
      "name": "python3",
      "display_name": "Python 3"
    },
    "language_info": {
      "name": "python"
    }
  },
  "cells": [
    {
      "cell_type": "markdown",
      "metadata": {
        "id": "view-in-github",
        "colab_type": "text"
      },
      "source": [
        "<a href=\"https://colab.research.google.com/github/heewoonjeong/AI8_Study/blob/main/4%EC%9E%A5_%EC%B5%9C%EC%86%8C%EC%A0%9C%EA%B3%B1%EB%B2%95.ipynb\" target=\"_parent\"><img src=\"https://colab.research.google.com/assets/colab-badge.svg\" alt=\"Open In Colab\"/></a>"
      ]
    },
    {
      "cell_type": "code",
      "execution_count": 2,
      "metadata": {
        "id": "jISYDwOXCNVM"
      },
      "outputs": [],
      "source": [
        "import numpy as np\n",
        "# 공부한 시간,점수를 x,y로  이름으로 배열 \n",
        "x = np.array([2,4,6,8])\n",
        "y = np.array([81,93,91,97])"
      ]
    },
    {
      "cell_type": "code",
      "source": [
        "mx = np.mean(x) #x의 평균값\n",
        "my = np.mean(y) # y의 평균값 "
      ],
      "metadata": {
        "id": "jBXnG2pP4NV4"
      },
      "execution_count": 3,
      "outputs": []
    },
    {
      "cell_type": "code",
      "source": [
        "# **2 제곱 for i in x 각원소를 한번씩 자리에 대입하라는 의미 \n",
        "# 기울기 공식의 분모\n",
        "divisor = sum([(i - mx)**2 for i in x]) "
      ],
      "metadata": {
        "id": "5QB9tVkb4XVc"
      },
      "execution_count": 4,
      "outputs": []
    },
    {
      "cell_type": "code",
      "source": [
        "# 기울기 공식의 분자 \n",
        "def top (x, mx, y, my):\n",
        "  d = 0 \n",
        "  for i in range(len(x)):\n",
        "    d += (x[i] - mx) * (y[i] - my) \n",
        "  return d \n",
        "dividend = top(x, mx, y, my)\n"
      ],
      "metadata": {
        "id": "3whuJrPe4hCz"
      },
      "execution_count": 5,
      "outputs": []
    },
    {
      "cell_type": "code",
      "source": [
        "a = dividend / divisor # 기울기 a를 구하는 공식 "
      ],
      "metadata": {
        "id": "SG2Bxq3Y5ufk"
      },
      "execution_count": 6,
      "outputs": []
    },
    {
      "cell_type": "code",
      "source": [
        "b= my - (mx*a) # y절편 b절편을 구하는 공식입니다 "
      ],
      "metadata": {
        "id": "IDeYQGFx5y1N"
      },
      "execution_count": 7,
      "outputs": []
    },
    {
      "cell_type": "code",
      "source": [
        "print(\"x의 평균값:\",mx)\n",
        "print(\"y의 평균값:\", my)\n",
        "print()\n",
        "print(\"분모: \",divisor)\n",
        "print(\"분자:\", dividend)\n",
        "print()\n",
        "print(\"기울기 :\",a)\n",
        "print(\"y 절편 \",b)\n"
      ],
      "metadata": {
        "colab": {
          "base_uri": "https://localhost:8080/"
        },
        "id": "vgKaO0hx590p",
        "outputId": "274a7bc6-ef52-4686-8913-855a8fdc69be"
      },
      "execution_count": 8,
      "outputs": [
        {
          "output_type": "stream",
          "name": "stdout",
          "text": [
            "x의 평균값: 5.0\n",
            "y의 평균값: 90.5\n",
            "\n",
            "분모:  20.0\n",
            "분자: 46.0\n",
            "\n",
            "기울기 : 2.3\n",
            "y 절편  79.0\n"
          ]
        }
      ]
    },
    {
      "cell_type": "markdown",
      "source": [
        "##평균제곱오차 : 오파를 구할때 많이사용"
      ],
      "metadata": {
        "id": "984BpQ4LFAR7"
      }
    },
    {
      "cell_type": "code",
      "source": [
        "fake_a = 2.3 #기울기 \n",
        "fake_b = 79 # y절편\n",
        "# 오차=  실제값 -예측값 \n",
        "def predict(x):\n",
        "  return fake_a * x  + fake_b # y = ax + b 에 가상의 a값과b값을 대입한 결과를출력하는함수"
      ],
      "metadata": {
        "id": "fl-8L01i_fT1"
      },
      "execution_count": 9,
      "outputs": []
    },
    {
      "cell_type": "code",
      "source": [
        "predict_result = [] # 빈리스트 만들기"
      ],
      "metadata": {
        "id": "38ARKCVuBJHo"
      },
      "execution_count": 10,
      "outputs": []
    },
    {
      "cell_type": "code",
      "source": [
        "for i in range(len(x)): # 모든 x값을 한번씩 대입해 predict_result 리스트를 완성합니다. \n",
        "  predict_result.append(predict(x[i]))\n",
        "  print(\"공부시간=%.f, 실제 점수=%.f, 예측점수=%.f\"% (x[i],y [i],predict(x[i])))"
      ],
      "metadata": {
        "colab": {
          "base_uri": "https://localhost:8080/"
        },
        "id": "y2av8q0SBQ43",
        "outputId": "6082b301-c64b-4260-9746-d75194b63742"
      },
      "execution_count": 11,
      "outputs": [
        {
          "output_type": "stream",
          "name": "stdout",
          "text": [
            "공부시간=2, 실제 점수=81, 예측점수=84\n",
            "공부시간=4, 실제 점수=93, 예측점수=88\n",
            "공부시간=6, 실제 점수=91, 예측점수=93\n",
            "공부시간=8, 실제 점수=97, 예측점수=97\n"
          ]
        }
      ]
    },
    {
      "cell_type": "code",
      "source": [
        "n =len(x) # 평균제곱오차 공식 \n",
        "def mse(y,y_pred):\n",
        "  return (1/n) * sum((y - y_pred)**2)\n",
        "print(\" 평균 제곱 오차:\" + str(mse(y, predict_result)))"
      ],
      "metadata": {
        "colab": {
          "base_uri": "https://localhost:8080/"
        },
        "id": "ipjknb72C4--",
        "outputId": "8fe39622-9486-4add-82c5-3d29ae648894"
      },
      "execution_count": 12,
      "outputs": [
        {
          "output_type": "stream",
          "name": "stdout",
          "text": [
            " 평균 제곱 오차:8.299999999999985\n"
          ]
        }
      ]
    },
    {
      "cell_type": "code",
      "source": [
        "!pip install matplotlib"
      ],
      "metadata": {
        "colab": {
          "base_uri": "https://localhost:8080/"
        },
        "id": "wYhsrM-eHR1W",
        "outputId": "a294811d-309a-44b0-81b7-9895cc3860b4"
      },
      "execution_count": 13,
      "outputs": [
        {
          "output_type": "stream",
          "name": "stdout",
          "text": [
            "Looking in indexes: https://pypi.org/simple, https://us-python.pkg.dev/colab-wheels/public/simple/\n",
            "Requirement already satisfied: matplotlib in /usr/local/lib/python3.7/dist-packages (3.2.2)\n",
            "Requirement already satisfied: cycler>=0.10 in /usr/local/lib/python3.7/dist-packages (from matplotlib) (0.11.0)\n",
            "Requirement already satisfied: kiwisolver>=1.0.1 in /usr/local/lib/python3.7/dist-packages (from matplotlib) (1.4.4)\n",
            "Requirement already satisfied: python-dateutil>=2.1 in /usr/local/lib/python3.7/dist-packages (from matplotlib) (2.8.2)\n",
            "Requirement already satisfied: numpy>=1.11 in /usr/local/lib/python3.7/dist-packages (from matplotlib) (1.21.6)\n",
            "Requirement already satisfied: pyparsing!=2.0.4,!=2.1.2,!=2.1.6,>=2.0.1 in /usr/local/lib/python3.7/dist-packages (from matplotlib) (3.0.9)\n",
            "Requirement already satisfied: typing-extensions in /usr/local/lib/python3.7/dist-packages (from kiwisolver>=1.0.1->matplotlib) (4.1.1)\n",
            "Requirement already satisfied: six>=1.5 in /usr/local/lib/python3.7/dist-packages (from python-dateutil>=2.1->matplotlib) (1.15.0)\n"
          ]
        }
      ]
    },
    {
      "cell_type": "code",
      "source": [
        "import numpy as np \n",
        "import matplotlib.pyplot as plt \n",
        "\n",
        "plt.scatter(x,y) \n",
        "plt.show() # 데이터 분포를 그래프로 나타 냅니다 "
      ],
      "metadata": {
        "colab": {
          "base_uri": "https://localhost:8080/",
          "height": 265
        },
        "id": "c3mhWTQURZKN",
        "outputId": "6f440a17-2394-4389-b0a2-64a575f333d1"
      },
      "execution_count": 14,
      "outputs": [
        {
          "output_type": "display_data",
          "data": {
            "text/plain": [
              "<Figure size 432x288 with 1 Axes>"
            ],
            "image/png": "[encoded data removed]"
          },
          "metadata": {
            "needs_background": "light"
          }
        }
      ]
    },
    {
      "cell_type": "code",
      "source": [
        "a =0 # 기울기a의 값과 절편 b의 값을 초기화 합니다 \n",
        "b=0"
      ],
      "metadata": {
        "id": "mOVIIJ0pRoZp"
      },
      "execution_count": 15,
      "outputs": []
    },
    {
      "cell_type": "code",
      "source": [
        "lr= 0.03 # 학습률 설정 # 학습률을 찾아주는 최적화 알고리즘을 사용 여러 학습률을 적용해보며 최적을 결과를 만드는 학습률을 찾아낸것 "
      ],
      "metadata": {
        "id": "HWxedre9R096"
      },
      "execution_count": 16,
      "outputs": []
    },
    {
      "cell_type": "code",
      "source": [
        "epochs=2001 # 몇번 반복할지 설정 "
      ],
      "metadata": {
        "id": "QDHbsd-jR2OF"
      },
      "execution_count": 17,
      "outputs": []
    },
    {
      "cell_type": "code",
      "source": [
        "n= len(x) # x값이 총 몇개인지 셉니다 "
      ],
      "metadata": {
        "id": "8ynPH8nZR4cV"
      },
      "execution_count": 18,
      "outputs": []
    },
    {
      "cell_type": "code",
      "source": [
        "# 경사 하강법을 시작  \n",
        "for i in range(epochs): # 에포크 수많큼 반복합니다 \n",
        "  y_pred = a*x +b # 예측값을 구하는 식\n",
        "  error = y - y_pred #실제 값과 비교한 오차를 error로 놓습니다 \n",
        "\n",
        "  a_diff = (2/n) * sum(-x *(error)) # 오차 함수를 a로 편미분한 값\n",
        "  b_diff = (2/n) * sum(-(error)) # 오차 함수를 b로 편미분한 값  \n",
        "\n",
        "  a= a - lr * a_diff # 학습률을 곱해 기존의a값을 업데이트 합니다 \n",
        "  b= b - lr * b_diff # 학습률을 곱해 기존의b값을 업데이트 합니다 \n",
        "\n",
        "  if i % 100 ==0: # 100번 반복될 때마다 현재의 a값 b값을 출력합니다. 100번마다 epochs 나타냄 \n",
        "    print(\"epoch=%.f, 기울기=%.04f, 절편= %.04f\" %(i,a,b)) \n",
        "  \n",
        " # 압서 구한 최정 a값을 기울기, b값을 y절편에 대입해 그래프를 그립니다.  \n",
        "y_pred = a * x + b"
      ],
      "metadata": {
        "colab": {
          "base_uri": "https://localhost:8080/"
        },
        "id": "oIM4JLUtR6Ui",
        "outputId": "f6c3f375-fc5d-438e-81e7-2b9c48375563"
      },
      "execution_count": 19,
      "outputs": [
        {
          "output_type": "stream",
          "name": "stdout",
          "text": [
            "epoch=0, 기울기=27.8400, 절편= 5.4300\n",
            "epoch=100, 기울기=7.0739, 절편= 50.5117\n",
            "epoch=200, 기울기=4.0960, 절편= 68.2822\n",
            "epoch=300, 기울기=2.9757, 절편= 74.9678\n",
            "epoch=400, 기울기=2.5542, 절편= 77.4830\n",
            "epoch=500, 기울기=2.3956, 절편= 78.4293\n",
            "epoch=600, 기울기=2.3360, 절편= 78.7853\n",
            "epoch=700, 기울기=2.3135, 절편= 78.9192\n",
            "epoch=800, 기울기=2.3051, 절편= 78.9696\n",
            "epoch=900, 기울기=2.3019, 절편= 78.9886\n",
            "epoch=1000, 기울기=2.3007, 절편= 78.9957\n",
            "epoch=1100, 기울기=2.3003, 절편= 78.9984\n",
            "epoch=1200, 기울기=2.3001, 절편= 78.9994\n",
            "epoch=1300, 기울기=2.3000, 절편= 78.9998\n",
            "epoch=1400, 기울기=2.3000, 절편= 78.9999\n",
            "epoch=1500, 기울기=2.3000, 절편= 79.0000\n",
            "epoch=1600, 기울기=2.3000, 절편= 79.0000\n",
            "epoch=1700, 기울기=2.3000, 절편= 79.0000\n",
            "epoch=1800, 기울기=2.3000, 절편= 79.0000\n",
            "epoch=1900, 기울기=2.3000, 절편= 79.0000\n",
            "epoch=2000, 기울기=2.3000, 절편= 79.0000\n"
          ]
        }
      ]
    },
    {
      "cell_type": "code",
      "source": [
        "# 그래프 확인 \n",
        "plt.scatter(x,y)\n",
        "plt.plot(x,y_pred ,'r')\n",
        "plt.show()"
      ],
      "metadata": {
        "colab": {
          "base_uri": "https://localhost:8080/",
          "height": 265
        },
        "id": "L3J7P65ISZym",
        "outputId": "4a8db67b-eee5-4349-fd81-16cfe416c11a"
      },
      "execution_count": 20,
      "outputs": [
        {
          "output_type": "display_data",
          "data": {
            "text/plain": [
              "<Figure size 432x288 with 1 Axes>"
            ],
            "image/png": "[encoded data removed]"
          },
          "metadata": {
            "needs_background": "light"
          }
        }
      ]
    },
    {
      "cell_type": "markdown",
      "source": [
        "## 다중 선형 회귀"
      ],
      "metadata": {
        "id": "KT0jBUeuWct6"
      }
    },
    {
      "cell_type": "code",
      "source": [
        "import numpy as np\n",
        "import matplotlib.pyplot as plt\n"
      ],
      "metadata": {
        "id": "2OJ8d_l4Wcaq"
      },
      "execution_count": 21,
      "outputs": []
    },
    {
      "cell_type": "code",
      "source": [
        "x1 = np.array([2,4,6,8]) # 공부시간 x1 과외 시간 x2 성적 y의 넘파이 배열을 만듭니다. \n",
        "x2 = np.array([0,4,2,3])\n",
        "y = np.array([81,93,91,97])\n"
      ],
      "metadata": {
        "id": "Voh-cW8cUl7B"
      },
      "execution_count": 22,
      "outputs": []
    },
    {
      "cell_type": "code",
      "source": [
        "fig = plt.figure()\n",
        "ax=fig.add_subplot(111,projection='3d')\n",
        "ax.scatter3D(x1, x2,y)\n",
        "plt.show()"
      ],
      "metadata": {
        "colab": {
          "base_uri": "https://localhost:8080/",
          "height": 248
        },
        "id": "HIJeUAZJWX2G",
        "outputId": "d940b097-2ffa-4cc7-d068-5c595dc8c2cc"
      },
      "execution_count": 23,
      "outputs": [
        {
          "output_type": "display_data",
          "data": {
            "text/plain": [
              "<Figure size 432x288 with 1 Axes>"
            ],
            "image/png": "[encoded data removed]"
          },
          "metadata": {
            "needs_background": "light"
          }
        }
      ]
    },
    {
      "cell_type": "code",
      "source": [
        "# 기울기의 a의 값과 절편b의 값을 초기화 합니다 \n",
        "a1= 0\n",
        "a2=0\n",
        "b=0"
      ],
      "metadata": {
        "id": "_hvnbKwXW5sx"
      },
      "execution_count": 24,
      "outputs": []
    },
    {
      "cell_type": "code",
      "source": [
        "# 학습률을 정합니다 \n",
        "lr= 0.01\n",
        "# 반복할 횟수를 입력합니다. \n",
        "epochs=2001\n"
      ],
      "metadata": {
        "id": "XZln_oXuXOKP"
      },
      "execution_count": 25,
      "outputs": []
    },
    {
      "cell_type": "code",
      "source": [
        "# x값이 총 몇개 인지 셉니다. x1과 x2이 수가 같으므로 x1만 세겠습니다 \n",
        "n=len(x1)"
      ],
      "metadata": {
        "id": "wfPsbP7ZXRrU"
      },
      "execution_count": 26,
      "outputs": []
    },
    {
      "cell_type": "code",
      "source": [
        "for i in range(epochs):   # x가 2개가 되었으므로 x1,x2 두개의 변수를 만들고 기울기도 a1,a2,를 만듭니다 \n",
        "  y_pred = a1 * x1 + a2 * x2 + b # # 기울기와 절편 자리에 a1,a2,b를 각각 대입합니다\n",
        "  error = y - y_pred  # 실제 값과 비교한 오차를 error로 놓습니다. \n",
        "\n",
        "  a1_diff= (2/n) * sum(-x1 * (error))# 학습률을 곱해 기존의 a1값을 업데이트합니다\n",
        "  a2_diff= (2/n) * sum(-x2 * (error)) # 학습률을 곱해 기존의 a2값을 업데이트합니다\n",
        "  b_diff = (2/n) * sum(-(error)) # 학습률을 곱해 기존의 b값을 업데이트합니다\n",
        "\n",
        "  a1 = a1 - lr * a1_diff  # 학습률을 곱해 기존의 a1 값을 업데이트 합니다.\n",
        "  a2 = a2 - lr * a2_diff # 학습률을 곱해 기존의 a2 값을 업데이트 합니다.\n",
        "  b = b - lr * b_diff  # 학습률을 곱해 기존의 b 값을 업데이트 합니다.\n",
        "\n",
        "  if i % 100 == 0: # 100번 반복될 때마다 혅의 a1,a2,b의 값을 출력합니다. \n",
        "    print(\"epoch=%.f, 기울기1=%.04f, 기울기2=%.04f, 절편=%.04f\" % (i, a1, a2, b))\n",
        "\n",
        "print(\"실제 점수: \", y)\n",
        "print(\"예측 점수:\", y_pred)"
      ],
      "metadata": {
        "colab": {
          "base_uri": "https://localhost:8080/"
        },
        "id": "nUqwYQCzXUk2",
        "outputId": "9a5b6c2d-512a-4fab-d8ef-60fabf09c55d"
      },
      "execution_count": 27,
      "outputs": [
        {
          "output_type": "stream",
          "name": "stdout",
          "text": [
            "epoch=0, 기울기1=9.2800, 기울기2=4.2250, 절편=1.8100\n",
            "epoch=100, 기울기1=9.5110, 기울기2=5.0270, 절편=22.9205\n",
            "epoch=200, 기울기1=7.3238, 기울기2=4.2950, 절편=37.8751\n",
            "epoch=300, 기울기1=5.7381, 기울기2=3.7489, 절편=48.7589\n",
            "epoch=400, 기울기1=4.5844, 기울기2=3.3507, 절편=56.6800\n",
            "epoch=500, 기울기1=3.7447, 기울기2=3.0608, 절편=62.4448\n",
            "epoch=600, 기울기1=3.1337, 기울기2=2.8498, 절편=66.6404\n",
            "epoch=700, 기울기1=2.6890, 기울기2=2.6962, 절편=69.6938\n",
            "epoch=800, 기울기1=2.3653, 기울기2=2.5845, 절편=71.9160\n",
            "epoch=900, 기울기1=2.1297, 기울기2=2.5032, 절편=73.5333\n",
            "epoch=1000, 기울기1=1.9583, 기울기2=2.4440, 절편=74.7103\n",
            "epoch=1100, 기울기1=1.8336, 기울기2=2.4009, 절편=75.5670\n",
            "epoch=1200, 기울기1=1.7428, 기울기2=2.3695, 절편=76.1904\n",
            "epoch=1300, 기울기1=1.6767, 기울기2=2.3467, 절편=76.6441\n",
            "epoch=1400, 기울기1=1.6286, 기울기2=2.3301, 절편=76.9743\n",
            "epoch=1500, 기울기1=1.5936, 기울기2=2.3180, 절편=77.2146\n",
            "epoch=1600, 기울기1=1.5681, 기울기2=2.3092, 절편=77.3895\n",
            "epoch=1700, 기울기1=1.5496, 기울기2=2.3028, 절편=77.5168\n",
            "epoch=1800, 기울기1=1.5361, 기울기2=2.2982, 절편=77.6095\n",
            "epoch=1900, 기울기1=1.5263, 기울기2=2.2948, 절편=77.6769\n",
            "epoch=2000, 기울기1=1.5191, 기울기2=2.2923, 절편=77.7260\n",
            "실제 점수:  [81 93 91 97]\n",
            "예측 점수: [80.76387645 92.97153922 91.42520875 96.7558749 ]\n"
          ]
        }
      ]
    },
    {
      "cell_type": "code",
      "source": [
        "from tensorflow.keras.models import Sequential\n",
        "from tensorflow.keras.layers import Dense"
      ],
      "metadata": {
        "id": "b1sWRyshwioK"
      },
      "execution_count": 28,
      "outputs": []
    },
    {
      "cell_type": "code",
      "source": [
        "model = Sequential() \n",
        "model.add(Dense(1, input_dim=1, activation='linear')) # 출력값, 입력 변수 , 분석 방법에 맞게 끔 모델을 설정 # \n",
        "model.compile(optimizer ='sgd' , loss='mse') # 오차 수정을 위해 경사 하강법(sgd)을, 오차의 정도를 판단하기 위해 평균 제곱 오차(mse)를 사용합니다 \n",
        "model.fit(x,y,epochs=2000) # 오차 최소화 하는 과정을 2000번 반복 "
      ],
      "metadata": {
        "id": "tGiNvooizMW5"
      },
      "execution_count": null,
      "outputs": []
    },
    {
      "cell_type": "code",
      "source": [
        "plt.scatter(x,y)\n",
        "plt.plot(x, model.predict(x),'r') # 예측 결과를 그래프로 나타 냅니다 \n",
        "plt.show()"
      ],
      "metadata": {
        "colab": {
          "base_uri": "https://localhost:8080/",
          "height": 265
        },
        "id": "gpWfJ0TH4yRp",
        "outputId": "cf1177ab-705d-429c-bf3d-f6273f065fca"
      },
      "execution_count": 30,
      "outputs": [
        {
          "output_type": "display_data",
          "data": {
            "text/plain": [
              "<Figure size 432x288 with 1 Axes>"
            ],
            "image/png": "[encoded data removed]"
          },
          "metadata": {
            "needs_background": "light"
          }
        }
      ]
    },
    {
      "cell_type": "code",
      "source": [
        "# ㅇ임의의 시간으로 점수를 예측하는 모델을 테스트 \n",
        "hour = 7\n",
        "prediction = model.predict([hour])\n",
        "print(\"%.f시간을 공부할 경우의 예상점수는 %.02f점 입니다.\" % (hour,prediction))"
      ],
      "metadata": {
        "colab": {
          "base_uri": "https://localhost:8080/"
        },
        "id": "8BXpSZkv7wUI",
        "outputId": "9bad26da-a560-4ebb-a5cd-1f5d93d054b6"
      },
      "execution_count": 31,
      "outputs": [
        {
          "output_type": "stream",
          "name": "stdout",
          "text": [
            "7시간을 공부할 경우의 예상점수는 95.12점 입니다.\n"
          ]
        }
      ]
    },
    {
      "cell_type": "code",
      "source": [
        "x = np.array([[2,0], [4, 4], [6, 2], [8, 3]])\n",
        "y = np.array([81, 93, 91, 97])\n",
        "\n",
        "model = Sequential()"
      ],
      "metadata": {
        "id": "zSdAEch_-Um2"
      },
      "execution_count": 32,
      "outputs": []
    },
    {
      "cell_type": "code",
      "source": [
        "# 입력 변수가 두개 (학습 시간 , 과외 시간) 이므로 input_dim에 2를 입력합니다 \n",
        "model.add(Dense(1,input_dim=2 , activation='linear'))\n",
        "model.compile(optimizer = 'sgd' , loss= 'mse')"
      ],
      "metadata": {
        "id": "CK-11mko8mZ2"
      },
      "execution_count": 33,
      "outputs": []
    },
    {
      "cell_type": "code",
      "source": [
        "model.fit(x,y ,epochs= 2000) # 오차 최소화 하는 과정을 2000번 반복합니다 "
      ],
      "metadata": {
        "id": "vRPU6mOz-zvO"
      },
      "execution_count": null,
      "outputs": []
    },
    {
      "cell_type": "code",
      "source": [
        "# 임의의 학습 시간과 과외 시간을 집어 넣어 점서루를 예측하는 모델을 테스트 해 보겠습니다 \n",
        "hour=7\n",
        "private_class = 4 \n",
        "prediction = model.predict([[hour, private_class]])\n",
        "\n",
        "print(\"%.f시간을 고부하고 %.f시간의 과외를 받을 경우 , 예상 점수는 %.02f점 입니다.\"\n",
        "% (hour, private_class,prediction))"
      ],
      "metadata": {
        "colab": {
          "base_uri": "https://localhost:8080/"
        },
        "id": "m4XEoVu38_a2",
        "outputId": "3dae7dbd-a241-43e8-fb2d-03537f30b58b"
      },
      "execution_count": 35,
      "outputs": [
        {
          "output_type": "stream",
          "name": "stdout",
          "text": [
            "7시간을 고부하고 4시간의 과외를 받을 경우 , 예상 점수는 97.53점 입니다.\n"
          ]
        }
      ]
    },
    {
      "cell_type": "markdown",
      "source": [
        "## 텐서플로 로지스킥 회귀"
      ],
      "metadata": {
        "id": "2VyGqYCCDuCK"
      }
    },
    {
      "cell_type": "code",
      "source": [
        "x = np.array([ 2,4,6,8,10,12,14]) # 공부한 시간 \n",
        "y = np.array([0,0,0,1,1,1,1]) #불합 0 합격 1 \n",
        "\n",
        "model = Sequential()\n",
        "model.add(Dense(1, input_dim=1, activation = 'sigmoid')) # "
      ],
      "metadata": {
        "id": "bGFZe7YN_dkE"
      },
      "execution_count": 36,
      "outputs": []
    },
    {
      "cell_type": "code",
      "source": [
        "model.compile(optimizer='sgd', loss='binary_crossentropy') # 교차 엔트로피 오차 함수를 잉ㅇ하기 위해'binary_crossentropy로 설정합니다 \n",
        "model.fit(x,y, epochs=5000)"
      ],
      "metadata": {
        "id": "_uiNQrBMESp2"
      },
      "execution_count": null,
      "outputs": []
    },
    {
      "cell_type": "code",
      "source": [
        "plt.scatter(x,y)\n",
        "plt.plot(x,model.predict(x), 'r')\n",
        "plt.show()"
      ],
      "metadata": {
        "colab": {
          "base_uri": "https://localhost:8080/",
          "height": 265
        },
        "id": "GzhHyf1EEkcG",
        "outputId": "cf4f59d0-4bdc-44a6-cfda-788c37374319"
      },
      "execution_count": 38,
      "outputs": [
        {
          "output_type": "display_data",
          "data": {
            "text/plain": [
              "<Figure size 432x288 with 1 Axes>"
            ],
            "image/png": "[encoded data removed]"
          },
          "metadata": {
            "needs_background": "light"
          }
        }
      ]
    },
    {
      "cell_type": "code",
      "source": [
        "hour = 8\n",
        "prediction = model.predict([hour])\n",
        "print(\"%.f시간을 공부할 경우, 합격 예상 확률은 %.01f%% 입니다.\" % (hour, prediction *100))"
      ],
      "metadata": {
        "colab": {
          "base_uri": "https://localhost:8080/"
        },
        "id": "JdgC90mFEso-",
        "outputId": "e107274d-ed27-4178-b990-8d2b2b2afe08"
      },
      "execution_count": 39,
      "outputs": [
        {
          "output_type": "stream",
          "name": "stdout",
          "text": [
            "8시간을 공부할 경우, 합격 예상 확률은 73.3% 입니다.\n"
          ]
        }
      ]
    },
    {
      "cell_type": "markdown",
      "source": [
        ""
      ],
      "metadata": {
        "id": "-0jSefeVHcE6"
      }
    },
    {
      "cell_type": "code",
      "source": [
        ""
      ],
      "metadata": {
        "id": "8l_Gs673FGVo"
      },
      "execution_count": 39,
      "outputs": []
    }
  ]
}