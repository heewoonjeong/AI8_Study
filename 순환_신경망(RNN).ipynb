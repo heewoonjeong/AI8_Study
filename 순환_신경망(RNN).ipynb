{
  "nbformat": 4,
  "nbformat_minor": 0,
  "metadata": {
    "colab": {
      "name": "순환 신경망(RNN).ipynb",
      "provenance": [],
      "collapsed_sections": [],
      "authorship_tag": "ABX9TyOBHRYd+MwjDzpTJcULz/5H",
      "include_colab_link": true
    },
    "kernelspec": {
      "name": "python3",
      "display_name": "Python 3"
    },
    "language_info": {
      "name": "python"
    },
    "gpuClass": "standard"
  },
  "cells": [
    {
      "cell_type": "markdown",
      "metadata": {
        "id": "view-in-github",
        "colab_type": "text"
      },
      "source": [
        "<a href=\"https://colab.research.google.com/github/heewoonjeong/AI8_Study/blob/main/%EC%88%9C%ED%99%98_%EC%8B%A0%EA%B2%BD%EB%A7%9D(RNN).ipynb\" target=\"_parent\"><img src=\"https://colab.research.google.com/assets/colab-badge.svg\" alt=\"Open In Colab\"/></a>"
      ]
    },
    {
      "cell_type": "code",
      "execution_count": null,
      "metadata": {
        "id": "B-WVZykIyqhf"
      },
      "outputs": [],
      "source": [
        "from tensorflow.keras.models import Sequential\n",
        "from tensorflow.keras.layers import Embedding, Dense, LSTM\n",
        "from tensorflow.keras.utils import to_categorical\n",
        "from tensorflow.keras.preprocessing import sequence\n",
        "from tensorflow.keras.datasets import reuters\n",
        "from tensorflow.keras.callbacks import EarlyStopping\n",
        "\n",
        "import numpy as np\n",
        "import matplotlib.pyplot as plt\n"
      ]
    },
    {
      "cell_type": "code",
      "source": [
        "# 훈련 데이터셋 테스트 데이터셋 reuters.load_data() 함수이용해 기사 불러오기 \n",
        "# test_split = 20%만 테스트셋으로 지정\n",
        "# num_words 옵션은 무엇을 의미하는지 알아보자 \n",
        "# num_words 1000 의 의미는 빈도가 1~1000에 해당하는 단어만 선택해서 불러오는것 \n",
        "(X_train, y_train), (X_test, y_test) = reuters.load_data(num_words= 1000,test_split=0.2)"
      ],
      "metadata": {
        "colab": {
          "base_uri": "https://localhost:8080/"
        },
        "id": "s0DqbF6wzuxE",
        "outputId": "4542da25-96b3-49d4-829b-9be1b704f9e7"
      },
      "execution_count": null,
      "outputs": [
        {
          "output_type": "stream",
          "name": "stdout",
          "text": [
            "Downloading data from https://storage.googleapis.com/tensorflow/tf-keras-datasets/reuters.npz\n",
            "2113536/2110848 [==============================] - 0s 0us/step\n",
            "2121728/2110848 [==============================] - 0s 0us/step\n"
          ]
        }
      ]
    },
    {
      "cell_type": "code",
      "source": [
        "# np.max() 함수로 y_train 의 종류를 구하니 카테고리 46으로 구분되어있음을 알수있엇다.\n",
        "# 이중에 학습용과 테스트 용 기사를 확인 \n",
        "# 딥러닝은 단어가 아닌 숫자로 변환후 학습 할수있다\n",
        "category = np.max(y_train) +1\n",
        "print(category, '카테고리')\n",
        "print(len(X_train),'학습용 뉴스 기사')\n",
        "print(len(X_test),'테스트 뉴스 기사')\n",
        "print(X_train[0])"
      ],
      "metadata": {
        "colab": {
          "base_uri": "https://localhost:8080/"
        },
        "id": "6TFzEuCQ0G2z",
        "outputId": "1e439b33-dd3f-44af-ea1a-863418e9418f"
      },
      "execution_count": null,
      "outputs": [
        {
          "output_type": "stream",
          "name": "stdout",
          "text": [
            "46 카테고리\n",
            "8982 학습용 뉴스 기사\n",
            "2246 테스트 뉴스 기사\n",
            "[1, 2, 2, 8, 43, 10, 447, 5, 25, 207, 270, 5, 2, 111, 16, 369, 186, 90, 67, 7, 89, 5, 19, 102, 6, 19, 124, 15, 90, 67, 84, 22, 482, 26, 7, 48, 4, 49, 8, 864, 39, 209, 154, 6, 151, 6, 83, 11, 15, 22, 155, 11, 15, 7, 48, 9, 2, 2, 504, 6, 258, 6, 272, 11, 15, 22, 134, 44, 11, 15, 16, 8, 197, 2, 90, 67, 52, 29, 209, 30, 32, 132, 6, 109, 15, 17, 12]\n"
          ]
        }
      ]
    },
    {
      "cell_type": "code",
      "source": [
        "# 기사의 단어수가 제각각 다르므로 이를 동일하게 맞추어야 한다는것 이때 다음과 같은 데이터 전처리 함수sequence()를 사용합니다 \n",
        "# maxlen 단어수를 100개로 맞추라는 의미 \n",
        "X_train = sequence.pad_sequences(X_train, maxlen =100)\n",
        "X_test = sequence.pad_sequences(X_test, maxlen=100)"
      ],
      "metadata": {
        "id": "sbDked3_0jcY"
      },
      "execution_count": null,
      "outputs": []
    },
    {
      "cell_type": "code",
      "source": [
        "# 원핫 인코딩 처리 \n",
        "y_train = to_categorical(y_train)\n",
        "y_test = to_categorical(y_test)"
      ],
      "metadata": {
        "id": "v5OTf8lZ00cj"
      },
      "execution_count": null,
      "outputs": []
    },
    {
      "cell_type": "code",
      "source": [
        "# 모델의구조 설정 \n",
        "# Embedding층은 데이터 전처리 과정을 통해 입력된 값을 받아 다음층이 알수 있는 형태로 변환(불러온 단어의수, 기사당 단어수)\n",
        "# LSTM=  RNN에서 기억 값에 대한 가중치를 제어(기사당 언어수,기타 옵션) 활성 함수로 tanh 사용 \n",
        "# 카테고리 숫자대로 Dense 지정 \n",
        "model = Sequential()\n",
        "model.add(Embedding(1000,100))\n",
        "model.add(LSTM(100, activation='tanh'))\n",
        "model.add(Dense(46, activation='softmax'))\n",
        "\n",
        "#모델 실행 옵션 정함 \n",
        "model.compile(loss='categorical_crossentropy', optimizer='adam', \n",
        "              metrics=['accuracy']) \n",
        "#조기중단 설정\n",
        "early_stopping_callback = EarlyStopping(monitor='val_loss', patience=5)\n",
        "# 학습 실행 \n",
        "history = model.fit(X_train, y_train, batch_size=20,epochs= 200,\n",
        "                    validation_data=(X_test, y_test), callbacks=[early_stopping_callback])"
      ],
      "metadata": {
        "colab": {
          "base_uri": "https://localhost:8080/"
        },
        "id": "rpG-4xzO0-b_",
        "outputId": "836405b8-8680-42ce-9738-0ce61df41241"
      },
      "execution_count": null,
      "outputs": [
        {
          "output_type": "stream",
          "name": "stdout",
          "text": [
            "Epoch 1/200\n",
            "450/450 [==============================] - 12s 10ms/step - loss: 2.2310 - accuracy: 0.4297 - val_loss: 1.8289 - val_accuracy: 0.5334\n",
            "Epoch 2/200\n",
            "450/450 [==============================] - 4s 9ms/step - loss: 1.7650 - accuracy: 0.5488 - val_loss: 1.6761 - val_accuracy: 0.5739\n",
            "Epoch 3/200\n",
            "450/450 [==============================] - 4s 9ms/step - loss: 1.6346 - accuracy: 0.5831 - val_loss: 1.6561 - val_accuracy: 0.5859\n",
            "Epoch 4/200\n",
            "450/450 [==============================] - 4s 9ms/step - loss: 1.4649 - accuracy: 0.6239 - val_loss: 1.4321 - val_accuracy: 0.6358\n",
            "Epoch 5/200\n",
            "450/450 [==============================] - 4s 9ms/step - loss: 1.3219 - accuracy: 0.6592 - val_loss: 1.3381 - val_accuracy: 0.6638\n",
            "Epoch 6/200\n",
            "450/450 [==============================] - 4s 10ms/step - loss: 1.2223 - accuracy: 0.6867 - val_loss: 1.3002 - val_accuracy: 0.6736\n",
            "Epoch 7/200\n",
            "450/450 [==============================] - 4s 9ms/step - loss: 1.1321 - accuracy: 0.7118 - val_loss: 1.2391 - val_accuracy: 0.6825\n",
            "Epoch 8/200\n",
            "450/450 [==============================] - 4s 9ms/step - loss: 1.0434 - accuracy: 0.7303 - val_loss: 1.2522 - val_accuracy: 0.6776\n",
            "Epoch 9/200\n",
            "450/450 [==============================] - 4s 9ms/step - loss: 0.9706 - accuracy: 0.7487 - val_loss: 1.1731 - val_accuracy: 0.6959\n",
            "Epoch 10/200\n",
            "450/450 [==============================] - 4s 9ms/step - loss: 0.8970 - accuracy: 0.7679 - val_loss: 1.1769 - val_accuracy: 0.7030\n",
            "Epoch 11/200\n",
            "450/450 [==============================] - 4s 9ms/step - loss: 0.8252 - accuracy: 0.7875 - val_loss: 1.1925 - val_accuracy: 0.7057\n",
            "Epoch 12/200\n",
            "450/450 [==============================] - 4s 9ms/step - loss: 0.7678 - accuracy: 0.8007 - val_loss: 1.1489 - val_accuracy: 0.7084\n",
            "Epoch 13/200\n",
            "450/450 [==============================] - 4s 9ms/step - loss: 0.7082 - accuracy: 0.8152 - val_loss: 1.1803 - val_accuracy: 0.7106\n",
            "Epoch 14/200\n",
            "450/450 [==============================] - 4s 9ms/step - loss: 0.6490 - accuracy: 0.8308 - val_loss: 1.1938 - val_accuracy: 0.7164\n",
            "Epoch 15/200\n",
            "450/450 [==============================] - 4s 9ms/step - loss: 0.5949 - accuracy: 0.8466 - val_loss: 1.1868 - val_accuracy: 0.7146\n",
            "Epoch 16/200\n",
            "450/450 [==============================] - 4s 9ms/step - loss: 0.5554 - accuracy: 0.8547 - val_loss: 1.2335 - val_accuracy: 0.7226\n",
            "Epoch 17/200\n",
            "450/450 [==============================] - 4s 9ms/step - loss: 0.5005 - accuracy: 0.8720 - val_loss: 1.2723 - val_accuracy: 0.7155\n"
          ]
        }
      ]
    },
    {
      "cell_type": "code",
      "source": [
        "# 테스트 정확도 출력 \n",
        "print(\"\\n Test Accuracy: %.4f\" % (model.evaluate(X_test, y_test)[1]))\n",
        "# 에ㅗ크에서 학습 자동중단 "
      ],
      "metadata": {
        "colab": {
          "base_uri": "https://localhost:8080/"
        },
        "id": "1WMrh37T9BIr",
        "outputId": "432e9535-a05d-4791-eec6-86981fe1be04"
      },
      "execution_count": null,
      "outputs": [
        {
          "output_type": "stream",
          "name": "stdout",
          "text": [
            "71/71 [==============================] - 0s 5ms/step - loss: 1.2723 - accuracy: 0.7155\n",
            "\n",
            " Test Accuracy: 0.7155\n"
          ]
        }
      ]
    },
    {
      "cell_type": "code",
      "source": [
        "# 검증셋과 학습셋 오차 저장 \n",
        "y_vloss = history.history['val_loss']\n",
        "y_loss = history.history['loss']"
      ],
      "metadata": {
        "id": "Ag4UZS-R9sI8"
      },
      "execution_count": null,
      "outputs": []
    },
    {
      "cell_type": "code",
      "source": [
        "#그래프 표현 \n",
        "x_len = np.arange(len(y_loss))\n",
        "plt.plot(x_len, y_vloss, marker='.', c='red', label='Testset_loss')\n",
        "plt.plot(x_len, y_loss, marker= '.',c='blue', label='Trainset_loss')\n",
        "\n",
        "# 그래프에 그리드를 주고 레이블 표시 \n",
        "plt.legend(loc='upper right')\n",
        "plt.grid()\n",
        "plt.xlabel('epoch')\n",
        "plt.ylabel('loss')\n",
        "plt.show()"
      ],
      "metadata": {
        "colab": {
          "base_uri": "https://localhost:8080/",
          "height": 279
        },
        "id": "DiLouZbC-FVZ",
        "outputId": "6eb60b7b-7e01-4508-ec08-4f4dda72f1d8"
      },
      "execution_count": null,
      "outputs": [
        {
          "output_type": "display_data",
          "data": {
            "text/plain": [
              "<Figure size 432x288 with 1 Axes>"
            ],
            "image/png": "[encoded data removed]"
          },
          "metadata": {
            "needs_background": "light"
          }
        }
      ]
    }
  ]
}